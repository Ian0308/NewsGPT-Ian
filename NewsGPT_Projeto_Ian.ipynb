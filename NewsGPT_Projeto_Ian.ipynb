{
  "cells": [
    {
      "cell_type": "markdown",
      "metadata": {
        "id": "view-in-github",
        "colab_type": "text"
      },
      "source": [
        "<a href=\"https://colab.research.google.com/github/Ian0308/NewsGPT-Ian/blob/main/NewsGPT_Projeto_Ian.ipynb\" target=\"_parent\"><img src=\"https://colab.research.google.com/assets/colab-badge.svg\" alt=\"Open In Colab\"/></a>"
      ]
    },
    {
      "cell_type": "markdown",
      "metadata": {
        "id": "oyQoZA6BaOYb"
      },
      "source": [
        "# Instalação bibliotecas"
      ]
    },
    {
      "cell_type": "code",
      "execution_count": null,
      "metadata": {
        "colab": {
          "base_uri": "https://localhost:8080/"
        },
        "collapsed": true,
        "id": "hnSBpBZDZ8H-",
        "outputId": "c34597b2-8cdc-4c0d-8496-e3e2f6236d9c"
      },
      "outputs": [
        {
          "output_type": "stream",
          "name": "stdout",
          "text": [
            "Requirement already satisfied: beautifulsoup4 in /usr/local/lib/python3.11/dist-packages (4.13.3)\n",
            "Requirement already satisfied: soupsieve>1.2 in /usr/local/lib/python3.11/dist-packages (from beautifulsoup4) (2.6)\n",
            "Requirement already satisfied: typing-extensions>=4.0.0 in /usr/local/lib/python3.11/dist-packages (from beautifulsoup4) (4.12.2)\n",
            "Requirement already satisfied: psycopg2 in /usr/local/lib/python3.11/dist-packages (2.9.10)\n",
            "Requirement already satisfied: nltk in /usr/local/lib/python3.11/dist-packages (3.9.1)\n",
            "Requirement already satisfied: click in /usr/local/lib/python3.11/dist-packages (from nltk) (8.1.8)\n",
            "Requirement already satisfied: joblib in /usr/local/lib/python3.11/dist-packages (from nltk) (1.4.2)\n",
            "Requirement already satisfied: regex>=2021.8.3 in /usr/local/lib/python3.11/dist-packages (from nltk) (2024.11.6)\n",
            "Requirement already satisfied: tqdm in /usr/local/lib/python3.11/dist-packages (from nltk) (4.67.1)\n",
            "Collecting news-Please\n",
            "  Downloading news_please-1.6.14-py3-none-any.whl.metadata (2.8 kB)\n",
            "Collecting Scrapy>=1.1.0 (from news-Please)\n",
            "  Downloading Scrapy-2.12.0-py2.py3-none-any.whl.metadata (5.3 kB)\n",
            "Collecting PyMySQL>=0.7.9 (from news-Please)\n",
            "  Downloading PyMySQL-1.1.1-py3-none-any.whl.metadata (4.4 kB)\n",
            "Collecting psycopg2-binary>=2.8.4 (from news-Please)\n",
            "  Downloading psycopg2_binary-2.9.10-cp311-cp311-manylinux_2_17_x86_64.manylinux2014_x86_64.whl.metadata (4.9 kB)\n",
            "Collecting hjson>=1.5.8 (from news-Please)\n",
            "  Downloading hjson-3.1.0-py3-none-any.whl.metadata (2.6 kB)\n",
            "Collecting elasticsearch>=2.4 (from news-Please)\n",
            "  Downloading elasticsearch-8.17.2-py3-none-any.whl.metadata (8.8 kB)\n",
            "Requirement already satisfied: beautifulsoup4>=4.3.2 in /usr/local/lib/python3.11/dist-packages (from news-Please) (4.13.3)\n",
            "Collecting readability-lxml>=0.6.2 (from news-Please)\n",
            "  Downloading readability_lxml-0.8.1-py3-none-any.whl.metadata (3.6 kB)\n",
            "Collecting langdetect>=1.0.7 (from news-Please)\n",
            "  Downloading langdetect-1.0.9.tar.gz (981 kB)\n",
            "\u001b[2K     \u001b[90m━━━━━━━━━━━━━━━━━━━━━━━━━━━━━━━━━━━━━━━━\u001b[0m \u001b[32m981.5/981.5 kB\u001b[0m \u001b[31m9.8 MB/s\u001b[0m eta \u001b[36m0:00:00\u001b[0m\n",
            "\u001b[?25h  Preparing metadata (setup.py) ... \u001b[?25l\u001b[?25hdone\n",
            "Requirement already satisfied: python-dateutil>=2.4.0 in /usr/local/lib/python3.11/dist-packages (from news-Please) (2.8.2)\n",
            "Collecting plac>=0.9.6 (from news-Please)\n",
            "  Downloading plac-1.4.3-py2.py3-none-any.whl.metadata (5.9 kB)\n",
            "Collecting dotmap>=1.2.17 (from news-Please)\n",
            "  Downloading dotmap-1.3.30-py3-none-any.whl.metadata (3.2 kB)\n",
            "Collecting PyDispatcher>=2.0.5 (from news-Please)\n",
            "  Downloading PyDispatcher-2.0.7-py3-none-any.whl.metadata (2.4 kB)\n",
            "Collecting warcio>=1.3.3 (from news-Please)\n",
            "  Downloading warcio-1.7.5-py2.py3-none-any.whl.metadata (16 kB)\n",
            "Collecting ago>=0.0.9 (from news-Please)\n",
            "  Downloading ago-0.1.0-py3-none-any.whl.metadata (5.8 kB)\n",
            "Requirement already satisfied: six>=1.10.0 in /usr/local/lib/python3.11/dist-packages (from news-Please) (1.17.0)\n",
            "Requirement already satisfied: lxml>=3.3.5 in /usr/local/lib/python3.11/dist-packages (from news-Please) (5.3.1)\n",
            "Collecting hurry.filesize>=0.9 (from news-Please)\n",
            "  Downloading hurry.filesize-0.9.tar.gz (2.8 kB)\n",
            "  Preparing metadata (setup.py) ... \u001b[?25l\u001b[?25hdone\n",
            "Collecting bs4 (from news-Please)\n",
            "  Downloading bs4-0.0.2-py2.py3-none-any.whl.metadata (411 bytes)\n",
            "Collecting faust-cchardet>=2.1.18 (from news-Please)\n",
            "  Downloading faust_cchardet-2.1.19-cp311-cp311-manylinux_2_17_x86_64.manylinux2014_x86_64.whl.metadata (8.3 kB)\n",
            "Collecting boto3 (from news-Please)\n",
            "  Downloading boto3-1.37.20-py3-none-any.whl.metadata (6.7 kB)\n",
            "Collecting redis (from news-Please)\n",
            "  Downloading redis-5.2.1-py3-none-any.whl.metadata (9.1 kB)\n",
            "Collecting newspaper4k>=0.9.3.1 (from news-Please)\n",
            "  Downloading newspaper4k-0.9.3.1-py3-none-any.whl.metadata (14 kB)\n",
            "Collecting lxml-html-clean>=0.1.1 (from news-Please)\n",
            "  Downloading lxml_html_clean-0.4.1-py3-none-any.whl.metadata (2.4 kB)\n",
            "Requirement already satisfied: typing-extensions>=4.7.0 in /usr/local/lib/python3.11/dist-packages (from news-Please) (4.12.2)\n",
            "Requirement already satisfied: soupsieve>1.2 in /usr/local/lib/python3.11/dist-packages (from beautifulsoup4>=4.3.2->news-Please) (2.6)\n",
            "Collecting elastic-transport<9,>=8.15.1 (from elasticsearch>=2.4->news-Please)\n",
            "  Downloading elastic_transport-8.17.1-py3-none-any.whl.metadata (3.8 kB)\n",
            "Requirement already satisfied: setuptools in /usr/local/lib/python3.11/dist-packages (from hurry.filesize>=0.9->news-Please) (75.1.0)\n",
            "Requirement already satisfied: Pillow>=4.0.0 in /usr/local/lib/python3.11/dist-packages (from newspaper4k>=0.9.3.1->news-Please) (11.1.0)\n",
            "Requirement already satisfied: PyYAML>=5.1 in /usr/local/lib/python3.11/dist-packages (from newspaper4k>=0.9.3.1->news-Please) (6.0.2)\n",
            "Collecting feedparser>=6.0.0 (from newspaper4k>=0.9.3.1->news-Please)\n",
            "  Downloading feedparser-6.0.11-py3-none-any.whl.metadata (2.4 kB)\n",
            "Requirement already satisfied: nltk>=3.6.6 in /usr/local/lib/python3.11/dist-packages (from newspaper4k>=0.9.3.1->news-Please) (3.9.1)\n",
            "Requirement already satisfied: numpy>=1.25 in /usr/local/lib/python3.11/dist-packages (from newspaper4k>=0.9.3.1->news-Please) (2.0.2)\n",
            "Requirement already satisfied: pandas>=2.1.0 in /usr/local/lib/python3.11/dist-packages (from newspaper4k>=0.9.3.1->news-Please) (2.2.2)\n",
            "Requirement already satisfied: requests>=2.26.0 in /usr/local/lib/python3.11/dist-packages (from newspaper4k>=0.9.3.1->news-Please) (2.32.3)\n",
            "Collecting tldextract>=2.0.1 (from newspaper4k>=0.9.3.1->news-Please)\n",
            "  Downloading tldextract-5.1.3-py3-none-any.whl.metadata (11 kB)\n",
            "Requirement already satisfied: chardet in /usr/local/lib/python3.11/dist-packages (from readability-lxml>=0.6.2->news-Please) (5.2.0)\n",
            "Collecting cssselect (from readability-lxml>=0.6.2->news-Please)\n",
            "  Downloading cssselect-1.3.0-py3-none-any.whl.metadata (2.6 kB)\n",
            "Collecting Twisted>=21.7.0 (from Scrapy>=1.1.0->news-Please)\n",
            "  Downloading twisted-24.11.0-py3-none-any.whl.metadata (20 kB)\n",
            "Requirement already satisfied: cryptography>=37.0.0 in /usr/local/lib/python3.11/dist-packages (from Scrapy>=1.1.0->news-Please) (43.0.3)\n",
            "Collecting itemloaders>=1.0.1 (from Scrapy>=1.1.0->news-Please)\n",
            "  Downloading itemloaders-1.3.2-py3-none-any.whl.metadata (3.9 kB)\n",
            "Collecting parsel>=1.5.0 (from Scrapy>=1.1.0->news-Please)\n",
            "  Downloading parsel-1.10.0-py2.py3-none-any.whl.metadata (11 kB)\n",
            "Requirement already satisfied: pyOpenSSL>=22.0.0 in /usr/local/lib/python3.11/dist-packages (from Scrapy>=1.1.0->news-Please) (24.2.1)\n",
            "Collecting queuelib>=1.4.2 (from Scrapy>=1.1.0->news-Please)\n",
            "  Downloading queuelib-1.7.0-py2.py3-none-any.whl.metadata (5.7 kB)\n",
            "Collecting service-identity>=18.1.0 (from Scrapy>=1.1.0->news-Please)\n",
            "  Downloading service_identity-24.2.0-py3-none-any.whl.metadata (5.1 kB)\n",
            "Collecting w3lib>=1.17.0 (from Scrapy>=1.1.0->news-Please)\n",
            "  Downloading w3lib-2.3.1-py3-none-any.whl.metadata (2.3 kB)\n",
            "Collecting zope.interface>=5.1.0 (from Scrapy>=1.1.0->news-Please)\n",
            "  Downloading zope.interface-7.2-cp311-cp311-manylinux_2_5_x86_64.manylinux1_x86_64.manylinux_2_17_x86_64.manylinux2014_x86_64.whl.metadata (44 kB)\n",
            "\u001b[2K     \u001b[90m━━━━━━━━━━━━━━━━━━━━━━━━━━━━━━━━━━━━━━━━\u001b[0m \u001b[32m44.4/44.4 kB\u001b[0m \u001b[31m812.8 kB/s\u001b[0m eta \u001b[36m0:00:00\u001b[0m\n",
            "\u001b[?25hCollecting protego>=0.1.15 (from Scrapy>=1.1.0->news-Please)\n",
            "  Downloading Protego-0.4.0-py2.py3-none-any.whl.metadata (6.2 kB)\n",
            "Collecting itemadapter>=0.1.0 (from Scrapy>=1.1.0->news-Please)\n",
            "  Downloading itemadapter-0.11.0-py3-none-any.whl.metadata (18 kB)\n",
            "Requirement already satisfied: packaging in /usr/local/lib/python3.11/dist-packages (from Scrapy>=1.1.0->news-Please) (24.2)\n",
            "Requirement already satisfied: defusedxml>=0.7.1 in /usr/local/lib/python3.11/dist-packages (from Scrapy>=1.1.0->news-Please) (0.7.1)\n",
            "Collecting botocore<1.38.0,>=1.37.20 (from boto3->news-Please)\n",
            "  Downloading botocore-1.37.20-py3-none-any.whl.metadata (5.7 kB)\n",
            "Collecting jmespath<2.0.0,>=0.7.1 (from boto3->news-Please)\n",
            "  Downloading jmespath-1.0.1-py3-none-any.whl.metadata (7.6 kB)\n",
            "Collecting s3transfer<0.12.0,>=0.11.0 (from boto3->news-Please)\n",
            "  Downloading s3transfer-0.11.4-py3-none-any.whl.metadata (1.7 kB)\n",
            "Requirement already satisfied: urllib3!=2.2.0,<3,>=1.25.4 in /usr/local/lib/python3.11/dist-packages (from botocore<1.38.0,>=1.37.20->boto3->news-Please) (2.3.0)\n",
            "Requirement already satisfied: cffi>=1.12 in /usr/local/lib/python3.11/dist-packages (from cryptography>=37.0.0->Scrapy>=1.1.0->news-Please) (1.17.1)\n",
            "Requirement already satisfied: certifi in /usr/local/lib/python3.11/dist-packages (from elastic-transport<9,>=8.15.1->elasticsearch>=2.4->news-Please) (2025.1.31)\n",
            "Collecting sgmllib3k (from feedparser>=6.0.0->newspaper4k>=0.9.3.1->news-Please)\n",
            "  Downloading sgmllib3k-1.0.0.tar.gz (5.8 kB)\n",
            "  Preparing metadata (setup.py) ... \u001b[?25l\u001b[?25hdone\n",
            "Requirement already satisfied: click in /usr/local/lib/python3.11/dist-packages (from nltk>=3.6.6->newspaper4k>=0.9.3.1->news-Please) (8.1.8)\n",
            "Requirement already satisfied: joblib in /usr/local/lib/python3.11/dist-packages (from nltk>=3.6.6->newspaper4k>=0.9.3.1->news-Please) (1.4.2)\n",
            "Requirement already satisfied: regex>=2021.8.3 in /usr/local/lib/python3.11/dist-packages (from nltk>=3.6.6->newspaper4k>=0.9.3.1->news-Please) (2024.11.6)\n",
            "Requirement already satisfied: tqdm in /usr/local/lib/python3.11/dist-packages (from nltk>=3.6.6->newspaper4k>=0.9.3.1->news-Please) (4.67.1)\n",
            "Requirement already satisfied: pytz>=2020.1 in /usr/local/lib/python3.11/dist-packages (from pandas>=2.1.0->newspaper4k>=0.9.3.1->news-Please) (2025.1)\n",
            "Requirement already satisfied: tzdata>=2022.7 in /usr/local/lib/python3.11/dist-packages (from pandas>=2.1.0->newspaper4k>=0.9.3.1->news-Please) (2025.1)\n",
            "Requirement already satisfied: charset-normalizer<4,>=2 in /usr/local/lib/python3.11/dist-packages (from requests>=2.26.0->newspaper4k>=0.9.3.1->news-Please) (3.4.1)\n",
            "Requirement already satisfied: idna<4,>=2.5 in /usr/local/lib/python3.11/dist-packages (from requests>=2.26.0->newspaper4k>=0.9.3.1->news-Please) (3.10)\n",
            "Requirement already satisfied: attrs>=19.1.0 in /usr/local/lib/python3.11/dist-packages (from service-identity>=18.1.0->Scrapy>=1.1.0->news-Please) (25.3.0)\n",
            "Requirement already satisfied: pyasn1 in /usr/local/lib/python3.11/dist-packages (from service-identity>=18.1.0->Scrapy>=1.1.0->news-Please) (0.6.1)\n",
            "Requirement already satisfied: pyasn1-modules in /usr/local/lib/python3.11/dist-packages (from service-identity>=18.1.0->Scrapy>=1.1.0->news-Please) (0.4.1)\n",
            "Collecting requests-file>=1.4 (from tldextract>=2.0.1->newspaper4k>=0.9.3.1->news-Please)\n",
            "  Downloading requests_file-2.1.0-py2.py3-none-any.whl.metadata (1.7 kB)\n",
            "Requirement already satisfied: filelock>=3.0.8 in /usr/local/lib/python3.11/dist-packages (from tldextract>=2.0.1->newspaper4k>=0.9.3.1->news-Please) (3.18.0)\n",
            "Collecting automat>=24.8.0 (from Twisted>=21.7.0->Scrapy>=1.1.0->news-Please)\n",
            "  Downloading Automat-24.8.1-py3-none-any.whl.metadata (8.4 kB)\n",
            "Collecting constantly>=15.1 (from Twisted>=21.7.0->Scrapy>=1.1.0->news-Please)\n",
            "  Downloading constantly-23.10.4-py3-none-any.whl.metadata (1.8 kB)\n",
            "Collecting hyperlink>=17.1.1 (from Twisted>=21.7.0->Scrapy>=1.1.0->news-Please)\n",
            "  Downloading hyperlink-21.0.0-py2.py3-none-any.whl.metadata (1.5 kB)\n",
            "Collecting incremental>=24.7.0 (from Twisted>=21.7.0->Scrapy>=1.1.0->news-Please)\n",
            "  Downloading incremental-24.7.2-py3-none-any.whl.metadata (8.1 kB)\n",
            "Requirement already satisfied: pycparser in /usr/local/lib/python3.11/dist-packages (from cffi>=1.12->cryptography>=37.0.0->Scrapy>=1.1.0->news-Please) (2.22)\n",
            "Downloading news_please-1.6.14-py3-none-any.whl (96 kB)\n",
            "\u001b[2K   \u001b[90m━━━━━━━━━━━━━━━━━━━━━━━━━━━━━━━━━━━━━━━━\u001b[0m \u001b[32m96.2/96.2 kB\u001b[0m \u001b[31m10.6 MB/s\u001b[0m eta \u001b[36m0:00:00\u001b[0m\n",
            "\u001b[?25hDownloading ago-0.1.0-py3-none-any.whl (6.5 kB)\n",
            "Downloading dotmap-1.3.30-py3-none-any.whl (11 kB)\n",
            "Downloading elasticsearch-8.17.2-py3-none-any.whl (717 kB)\n",
            "\u001b[2K   \u001b[90m━━━━━━━━━━━━━━━━━━━━━━━━━━━━━━━━━━━━━━━━\u001b[0m \u001b[32m718.0/718.0 kB\u001b[0m \u001b[31m45.8 MB/s\u001b[0m eta \u001b[36m0:00:00\u001b[0m\n",
            "\u001b[?25hDownloading faust_cchardet-2.1.19-cp311-cp311-manylinux_2_17_x86_64.manylinux2014_x86_64.whl (313 kB)\n",
            "\u001b[2K   \u001b[90m━━━━━━━━━━━━━━━━━━━━━━━━━━━━━━━━━━━━━━━━\u001b[0m \u001b[32m313.2/313.2 kB\u001b[0m \u001b[31m26.9 MB/s\u001b[0m eta \u001b[36m0:00:00\u001b[0m\n",
            "\u001b[?25hDownloading hjson-3.1.0-py3-none-any.whl (54 kB)\n",
            "\u001b[2K   \u001b[90m━━━━━━━━━━━━━━━━━━━━━━━━━━━━━━━━━━━━━━━━\u001b[0m \u001b[32m54.0/54.0 kB\u001b[0m \u001b[31m5.1 MB/s\u001b[0m eta \u001b[36m0:00:00\u001b[0m\n",
            "\u001b[?25hDownloading lxml_html_clean-0.4.1-py3-none-any.whl (14 kB)\n",
            "Downloading newspaper4k-0.9.3.1-py3-none-any.whl (296 kB)\n",
            "\u001b[2K   \u001b[90m━━━━━━━━━━━━━━━━━━━━━━━━━━━━━━━━━━━━━━━━\u001b[0m \u001b[32m296.6/296.6 kB\u001b[0m \u001b[31m23.2 MB/s\u001b[0m eta \u001b[36m0:00:00\u001b[0m\n",
            "\u001b[?25hDownloading plac-1.4.3-py2.py3-none-any.whl (22 kB)\n",
            "Downloading psycopg2_binary-2.9.10-cp311-cp311-manylinux_2_17_x86_64.manylinux2014_x86_64.whl (3.0 MB)\n",
            "\u001b[2K   \u001b[90m━━━━━━━━━━━━━━━━━━━━━━━━━━━━━━━━━━━━━━━━\u001b[0m \u001b[32m3.0/3.0 MB\u001b[0m \u001b[31m54.7 MB/s\u001b[0m eta \u001b[36m0:00:00\u001b[0m\n",
            "\u001b[?25hDownloading PyDispatcher-2.0.7-py3-none-any.whl (12 kB)\n",
            "Downloading PyMySQL-1.1.1-py3-none-any.whl (44 kB)\n",
            "\u001b[2K   \u001b[90m━━━━━━━━━━━━━━━━━━━━━━━━━━━━━━━━━━━━━━━━\u001b[0m \u001b[32m45.0/45.0 kB\u001b[0m \u001b[31m4.2 MB/s\u001b[0m eta \u001b[36m0:00:00\u001b[0m\n",
            "\u001b[?25hDownloading readability_lxml-0.8.1-py3-none-any.whl (20 kB)\n",
            "Downloading Scrapy-2.12.0-py2.py3-none-any.whl (311 kB)\n",
            "\u001b[2K   \u001b[90m━━━━━━━━━━━━━━━━━━━━━━━━━━━━━━━━━━━━━━━━\u001b[0m \u001b[32m311.2/311.2 kB\u001b[0m \u001b[31m24.0 MB/s\u001b[0m eta \u001b[36m0:00:00\u001b[0m\n",
            "\u001b[?25hDownloading warcio-1.7.5-py2.py3-none-any.whl (40 kB)\n",
            "\u001b[2K   \u001b[90m━━━━━━━━━━━━━━━━━━━━━━━━━━━━━━━━━━━━━━━━\u001b[0m \u001b[32m40.6/40.6 kB\u001b[0m \u001b[31m3.8 MB/s\u001b[0m eta \u001b[36m0:00:00\u001b[0m\n",
            "\u001b[?25hDownloading boto3-1.37.20-py3-none-any.whl (139 kB)\n",
            "\u001b[2K   \u001b[90m━━━━━━━━━━━━━━━━━━━━━━━━━━━━━━━━━━━━━━━━\u001b[0m \u001b[32m139.6/139.6 kB\u001b[0m \u001b[31m13.1 MB/s\u001b[0m eta \u001b[36m0:00:00\u001b[0m\n",
            "\u001b[?25hDownloading bs4-0.0.2-py2.py3-none-any.whl (1.2 kB)\n",
            "Downloading redis-5.2.1-py3-none-any.whl (261 kB)\n",
            "\u001b[2K   \u001b[90m━━━━━━━━━━━━━━━━━━━━━━━━━━━━━━━━━━━━━━━━\u001b[0m \u001b[32m261.5/261.5 kB\u001b[0m \u001b[31m22.0 MB/s\u001b[0m eta \u001b[36m0:00:00\u001b[0m\n",
            "\u001b[?25hDownloading botocore-1.37.20-py3-none-any.whl (13.4 MB)\n",
            "\u001b[2K   \u001b[90m━━━━━━━━━━━━━━━━━━━━━━━━━━━━━━━━━━━━━━━━\u001b[0m \u001b[32m13.4/13.4 MB\u001b[0m \u001b[31m70.1 MB/s\u001b[0m eta \u001b[36m0:00:00\u001b[0m\n",
            "\u001b[?25hDownloading cssselect-1.3.0-py3-none-any.whl (18 kB)\n",
            "Downloading elastic_transport-8.17.1-py3-none-any.whl (64 kB)\n",
            "\u001b[2K   \u001b[90m━━━━━━━━━━━━━━━━━━━━━━━━━━━━━━━━━━━━━━━━\u001b[0m \u001b[32m65.0/65.0 kB\u001b[0m \u001b[31m6.2 MB/s\u001b[0m eta \u001b[36m0:00:00\u001b[0m\n",
            "\u001b[?25hDownloading feedparser-6.0.11-py3-none-any.whl (81 kB)\n",
            "\u001b[2K   \u001b[90m━━━━━━━━━━━━━━━━━━━━━━━━━━━━━━━━━━━━━━━━\u001b[0m \u001b[32m81.3/81.3 kB\u001b[0m \u001b[31m8.5 MB/s\u001b[0m eta \u001b[36m0:00:00\u001b[0m\n",
            "\u001b[?25hDownloading itemadapter-0.11.0-py3-none-any.whl (11 kB)\n",
            "Downloading itemloaders-1.3.2-py3-none-any.whl (12 kB)\n",
            "Downloading jmespath-1.0.1-py3-none-any.whl (20 kB)\n",
            "Downloading parsel-1.10.0-py2.py3-none-any.whl (17 kB)\n",
            "Downloading Protego-0.4.0-py2.py3-none-any.whl (8.6 kB)\n",
            "Downloading queuelib-1.7.0-py2.py3-none-any.whl (13 kB)\n",
            "Downloading s3transfer-0.11.4-py3-none-any.whl (84 kB)\n",
            "\u001b[2K   \u001b[90m━━━━━━━━━━━━━━━━━━━━━━━━━━━━━━━━━━━━━━━━\u001b[0m \u001b[32m84.4/84.4 kB\u001b[0m \u001b[31m8.4 MB/s\u001b[0m eta \u001b[36m0:00:00\u001b[0m\n",
            "\u001b[?25hDownloading service_identity-24.2.0-py3-none-any.whl (11 kB)\n",
            "Downloading tldextract-5.1.3-py3-none-any.whl (104 kB)\n",
            "\u001b[2K   \u001b[90m━━━━━━━━━━━━━━━━━━━━━━━━━━━━━━━━━━━━━━━━\u001b[0m \u001b[32m104.9/104.9 kB\u001b[0m \u001b[31m10.6 MB/s\u001b[0m eta \u001b[36m0:00:00\u001b[0m\n",
            "\u001b[?25hDownloading twisted-24.11.0-py3-none-any.whl (3.2 MB)\n",
            "\u001b[2K   \u001b[90m━━━━━━━━━━━━━━━━━━━━━━━━━━━━━━━━━━━━━━━━\u001b[0m \u001b[32m3.2/3.2 MB\u001b[0m \u001b[31m66.7 MB/s\u001b[0m eta \u001b[36m0:00:00\u001b[0m\n",
            "\u001b[?25hDownloading w3lib-2.3.1-py3-none-any.whl (21 kB)\n",
            "Downloading zope.interface-7.2-cp311-cp311-manylinux_2_5_x86_64.manylinux1_x86_64.manylinux_2_17_x86_64.manylinux2014_x86_64.whl (259 kB)\n",
            "\u001b[2K   \u001b[90m━━━━━━━━━━━━━━━━━━━━━━━━━━━━━━━━━━━━━━━━\u001b[0m \u001b[32m259.8/259.8 kB\u001b[0m \u001b[31m20.0 MB/s\u001b[0m eta \u001b[36m0:00:00\u001b[0m\n",
            "\u001b[?25hDownloading Automat-24.8.1-py3-none-any.whl (42 kB)\n",
            "\u001b[2K   \u001b[90m━━━━━━━━━━━━━━━━━━━━━━━━━━━━━━━━━━━━━━━━\u001b[0m \u001b[32m42.6/42.6 kB\u001b[0m \u001b[31m4.2 MB/s\u001b[0m eta \u001b[36m0:00:00\u001b[0m\n",
            "\u001b[?25hDownloading constantly-23.10.4-py3-none-any.whl (13 kB)\n",
            "Downloading hyperlink-21.0.0-py2.py3-none-any.whl (74 kB)\n",
            "\u001b[2K   \u001b[90m━━━━━━━━━━━━━━━━━━━━━━━━━━━━━━━━━━━━━━━━\u001b[0m \u001b[32m74.6/74.6 kB\u001b[0m \u001b[31m6.9 MB/s\u001b[0m eta \u001b[36m0:00:00\u001b[0m\n",
            "\u001b[?25hDownloading incremental-24.7.2-py3-none-any.whl (20 kB)\n",
            "Downloading requests_file-2.1.0-py2.py3-none-any.whl (4.2 kB)\n",
            "Building wheels for collected packages: hurry.filesize, langdetect, sgmllib3k\n",
            "  Building wheel for hurry.filesize (setup.py) ... \u001b[?25l\u001b[?25hdone\n",
            "  Created wheel for hurry.filesize: filename=hurry.filesize-0.9-py3-none-any.whl size=4091 sha256=fbe4e32ba5df4d009c1b669719208c659d43d10fe994cd1828c8eae2aa6add3c\n",
            "  Stored in directory: /root/.cache/pip/wheels/31/39/13/0c3f79f41ad006d53fc6ce22b24d3626edac8afb3a2026e511\n",
            "  Building wheel for langdetect (setup.py) ... \u001b[?25l\u001b[?25hdone\n",
            "  Created wheel for langdetect: filename=langdetect-1.0.9-py3-none-any.whl size=993222 sha256=7f375c6d3f30a46dfac8703fba93a4252a29645ee0c3b9c4f2964f836db0bcb9\n",
            "  Stored in directory: /root/.cache/pip/wheels/0a/f2/b2/e5ca405801e05eb7c8ed5b3b4bcf1fcabcd6272c167640072e\n",
            "  Building wheel for sgmllib3k (setup.py) ... \u001b[?25l\u001b[?25hdone\n",
            "  Created wheel for sgmllib3k: filename=sgmllib3k-1.0.0-py3-none-any.whl size=6047 sha256=3a144f4c5dd588c2ad61d6c145542379bdd990d65e245d376b8af8832e21c925\n",
            "  Stored in directory: /root/.cache/pip/wheels/3b/25/2a/105d6a15df6914f4d15047691c6c28f9052cc1173e40285d03\n",
            "Successfully built hurry.filesize langdetect sgmllib3k\n",
            "Installing collected packages: sgmllib3k, PyDispatcher, plac, hjson, faust-cchardet, dotmap, ago, zope.interface, warcio, w3lib, redis, queuelib, PyMySQL, psycopg2-binary, protego, lxml-html-clean, langdetect, jmespath, itemadapter, incremental, hyperlink, hurry.filesize, feedparser, elastic-transport, cssselect, constantly, automat, Twisted, requests-file, readability-lxml, parsel, elasticsearch, bs4, botocore, tldextract, service-identity, s3transfer, itemloaders, Scrapy, newspaper4k, boto3, news-Please\n",
            "Successfully installed PyDispatcher-2.0.7 PyMySQL-1.1.1 Scrapy-2.12.0 Twisted-24.11.0 ago-0.1.0 automat-24.8.1 boto3-1.37.20 botocore-1.37.20 bs4-0.0.2 constantly-23.10.4 cssselect-1.3.0 dotmap-1.3.30 elastic-transport-8.17.1 elasticsearch-8.17.2 faust-cchardet-2.1.19 feedparser-6.0.11 hjson-3.1.0 hurry.filesize-0.9 hyperlink-21.0.0 incremental-24.7.2 itemadapter-0.11.0 itemloaders-1.3.2 jmespath-1.0.1 langdetect-1.0.9 lxml-html-clean-0.4.1 news-Please-1.6.14 newspaper4k-0.9.3.1 parsel-1.10.0 plac-1.4.3 protego-0.4.0 psycopg2-binary-2.9.10 queuelib-1.7.0 readability-lxml-0.8.1 redis-5.2.1 requests-file-2.1.0 s3transfer-0.11.4 service-identity-24.2.0 sgmllib3k-1.0.0 tldextract-5.1.3 w3lib-2.3.1 warcio-1.7.5 zope.interface-7.2\n"
          ]
        }
      ],
      "source": [
        "!pip install beautifulsoup4\n",
        "!pip install psycopg2\n",
        "!pip install nltk\n",
        "!pip install news-Please"
      ]
    },
    {
      "cell_type": "markdown",
      "metadata": {
        "id": "qbxRyQ_baTjm"
      },
      "source": [
        "# importação de dependências"
      ]
    },
    {
      "cell_type": "code",
      "execution_count": null,
      "metadata": {
        "id": "6tueJ1SIab-3"
      },
      "outputs": [],
      "source": [
        "from bs4 import BeautifulSoup\n",
        "import psycopg2 as ps\n",
        "from urllib.request import Request, urlopen\n",
        "from datetime import datetime\n",
        "import time\n",
        "import random"
      ]
    },
    {
      "cell_type": "markdown",
      "metadata": {
        "id": "KY1sDlGLalzW"
      },
      "source": [
        "# coletas\n",
        "\n"
      ]
    },
    {
      "cell_type": "markdown",
      "source": [
        "##links"
      ],
      "metadata": {
        "id": "GZLaL4GqUNh0"
      }
    },
    {
      "cell_type": "code",
      "execution_count": 21,
      "metadata": {
        "id": "O88ZfWuRaquo",
        "colab": {
          "base_uri": "https://localhost:8080/"
        },
        "outputId": "468cb442-e5b4-4c87-926b-40372931cd6d"
      },
      "outputs": [
        {
          "output_type": "stream",
          "name": "stdout",
          "text": [
            "['https://www.cnnbrasil.com.br/politica/', 'https://www.cnnbrasil.com.br/politica/', 'https://www.cnnbrasil.com.br/ww/', 'https://www.cnnbrasil.com.br/internacional/', 'https://www.cnnbrasil.com.br/nacional/', 'https://www.cnnbrasil.com.br/esportes/', 'https://www.cnnbrasil.com.br/esportes/', 'https://www.cnnbrasil.com.br/esportes/olimpiadas/', 'https://www.cnnbrasil.com.br/esportes/futebol/', 'https://www.cnnbrasil.com.br/esportes/brasileirao/', 'https://www.cnnbrasil.com.br/esportes/basquete/', 'https://www.cnnbrasil.com.br/esportes/automobilismo/', 'https://www.cnnbrasil.com.br/esportes/tenis/', 'https://www.cnnbrasil.com.br/esportes/esports/', 'https://www.cnnbrasil.com.br/economia/', 'https://www.cnnbrasil.com.br/economia/', 'https://www.cnnbrasil.com.br/economia/investimentos', 'https://www.cnnbrasil.com.br/economia/mercado/ultimas-noticias/', 'https://www.cnnbrasil.com.br/cotacoes/bolsa/', 'https://www.cnnbrasil.com.br/economia/loterias/', 'https://www.cnnbrasil.com.br/economia/loterias/resultados/megasena/', 'https://www.cnnbrasil.com.br/economia/loterias/resultados/quina/', 'https://www.cnnbrasil.com.br/economia/loterias/resultados/lotofacil/', 'https://www.cnnbrasil.com.br/economia/loterias/resultados/lotomania/', 'https://www.cnnbrasil.com.br/economia/loterias/resultados/duplasena/', 'https://www.cnnbrasil.com.br/economia/loterias/resultados/federal/', 'https://www.cnnbrasil.com.br/economia/loterias/resultados/timemania/', 'https://www.cnnbrasil.com.br/economia/loterias/resultados/loteca/', 'https://www.cnnbrasil.com.br/economia/loterias/resultados/diadesorte/', 'https://www.cnnbrasil.com.br/economia/loterias/resultados/supersete/', 'https://www.cnnbrasil.com.br/economia/money/', 'https://www.cnnbrasil.com.br/cop-30', 'https://www.cnnbrasil.com.br/pop/', 'https://www.cnnbrasil.com.br/saude/', 'https://www.cnnbrasil.com.br/tecnologia/', 'https://www.cnnbrasil.com.br/lifestyle/', 'https://www.cnnbrasil.com.br/viagemegastronomia/', 'https://www.cnnbrasil.com.br/auto/', 'https://www.cnnbrasil.com.br/educacao/', 'https://www.cnnbrasil.com.br/cnn-talks/', 'https://www.cnnbrasil.com.br/opiniao/', 'https://www.cnnbrasil.com.br/blogs/', 'https://www.cnnbrasil.com.br/colunas/', 'https://conteudos.cnnbrasil.com.br/programacao-cnn-brasil/', 'https://conteudos.cnnbrasil.com.br/equipe-cnn-brasil/', 'https://newsletter.cnnbrasil.com.br/', 'https://www.cnnbrasil.com.br/colunistas/', 'https://conteudos.cnnbrasil.com.br/sobre-a-cnn-brasil/', 'https://conteudos.cnnbrasil.com.br/privacidade/', 'https://conteudos.cnnbrasil.com.br/termos-de-uso-da-cnn-brasil/', 'https://conteudos.cnnbrasil.com.br/fale-com-a-cnn/', 'https://hotsite.cnnbrasil.com.br/distribuicao/', 'https://cnnbrasil.gupy.io/', 'https://www.cnnbrasil.com.br/ww/', 'https://www.cnnbrasil.com.br/politica/stf-tem-maioria-para-tornar-reus-bolsonaro-e-outros-7-por-trama-golpista/', 'https://www.cnnbrasil.com.br/politica/bolsonaro-critica-julgamento-politico-no-stf-estao-com-pressa/', 'https://www.cnnbrasil.com.br/politica/fux-elogia-voto-de-moraes-nao-deixou-pedra-sobre-pedra/', 'https://www.cnnbrasil.com.br/blogs/teo-cury/politica/improviso-e-referencias-dino-constroi-voto-com-anotacoes-feitas-a-mao/', 'https://www.cnnbrasil.com.br/politica/minuta-reuniao-com-embaixadores-e-8-1-os-fatos-citados-por-moraes-em-voto/', 'https://www.cnnbrasil.com.br/politica/acompanhe-ao-vivo-2o-dia-de-julgamento-de-denuncia-do-plano-de-golpe-no-stf/', 'https://www.cnnbrasil.com.br/politica/golpe-de-estado-mata-diz-flavio-dino-durante-voto/', 'https://www.cnnbrasil.com.br/politica/moraes-ironiza-bolsonaro-usou-palavras-carinhosas-em-ato-na-paulista/', 'https://www.cnnbrasil.com.br/politica/fuad-noman-prefeito-reeleito-de-belo-horizonte-morre-aos-77-anos/', 'https://www.cnnbrasil.com.br/politica/fuad-noman-prefeito-reeleito-de-belo-horizonte-morre-aos-77-anos/', 'https://www.cnnbrasil.com.br/esportes/futebol/futebol-internacional/eliminatorias/resposta-a-raphinha-messi-diz-que-argentina-fala-jogando-futebol/', 'https://www.cnnbrasil.com.br/esportes/futebol/futebol-internacional/eliminatorias/resposta-a-raphinha-messi-diz-que-argentina-fala-jogando-futebol/', 'https://www.cnnbrasil.com.br/esportes/futebol/selecao-brasileira/selecao-e-muito-grande-para-dorival-diz-comentarista-da-cnn/', 'https://www.cnnbrasil.com.br/economia/macroeconomia/cnn-talks-debate-os-desafios-da-infraestrutura-no-brasil-veja-fotos/', 'https://www.cnnbrasil.com.br/economia/macroeconomia/cnn-talks-debate-os-desafios-da-infraestrutura-no-brasil-veja-fotos/', 'https://www.cnnbrasil.com.br/economia/macroeconomia/logistica-e-o-maior-gargalo-para-producao-no-centro-oeste-diz-caiado-a-cnn/', 'https://www.cnnbrasil.com.br/esportes/futebol/futebol-internacional/fifa-anuncia-quase-r-6-bilhoes-em-premiacoes-para-o-mundial-de-clubes/', 'https://www.cnnbrasil.com.br/saude/sarcopenia-e-envelhecimento-saudavel-como-evitar-perda-muscular-com-idade/', 'https://www.cnnbrasil.com.br/esportes/futebol/futebol-internacional/eliminatorias/entenda-os-5-motivos-que-levaram-o-brasil-a-ser-humilhado-pela-argentina/', 'https://www.cnnbrasil.com.br/politica/bolsonaro-ora-com-damares-e-aliados-momentos-antes-de-julgamento-do-stf/', 'https://www.cnnbrasil.com.br/politica/zanin-vota-por-tornar-reus-bolsonaro-e-7-aliados-por-trama-golpista/', 'https://www.cnnbrasil.com.br/politica/fux-elogia-voto-de-moraes-nao-deixou-pedra-sobre-pedra/', 'https://www.cnnbrasil.com.br/blogs/teo-cury/politica/improviso-e-referencias-dino-constroi-voto-com-anotacoes-feitas-a-mao/', 'https://www.cnnbrasil.com.br/politica/carmen-lucia-vota-para-tornar-reus-jair-bolsonaro-e-mais-sete-denunciados/', 'https://www.cnnbrasil.com.br/politica/bolsonaro-critica-julgamento-politico-no-stf-estao-com-pressa/', 'https://www.cnnbrasil.com.br/politica/vossa-excelencia-esta-tendo-problema-com-idade-diz-carmen-a-flavio-dino/', 'https://www.cnnbrasil.com.br/politica/fux-vota-para-tornar-reus-os-oito-denunciados/', 'https://www.cnnbrasil.com.br/politica/stf-tem-maioria-para-tornar-reus-bolsonaro-e-outros-7-por-trama-golpista/', 'https://www.cnnbrasil.com.br/politica/minuta-reuniao-com-embaixadores-e-8-1-os-fatos-citados-por-moraes-em-voto/', 'https://www.cnnbrasil.com.br/politica/dino-ha-militares-mais-apaixonados-por-armas-do-que-por-seus-conjuges/', 'https://www.cnnbrasil.com.br/politica/flavio-dino-vota-para-tornar-jair-bolsonaro-e-mais-sete-denunciados-reus/', 'https://www.cnnbrasil.com.br/viagemegastronomia/viagem/como-sera-a-montanha-russa-mais-rapida-mais-alta-e-mais-longa-do-mundo/', 'https://www.cnnbrasil.com.br/viagemegastronomia/viagem/como-sera-a-montanha-russa-mais-rapida-mais-alta-e-mais-longa-do-mundo/', 'https://www.cnnbrasil.com.br/nacional/sul/rs/pai-arremessa-filho-de-ponte-para-se-vingar-da-ex-esposa-no-rs/', 'https://www.cnnbrasil.com.br/nacional/sul/rs/pai-arremessa-filho-de-ponte-para-se-vingar-da-ex-esposa-no-rs/', 'https://www.cnnbrasil.com.br/esportes/futebol/selecao-brasileira/galvao-bueno-detona-atuacao-da-selecao-pior-time-desde-o-7-a-1/', 'https://www.cnnbrasil.com.br/esportes/futebol/selecao-brasileira/galvao-bueno-detona-atuacao-da-selecao-pior-time-desde-o-7-a-1/', 'https://www.cnnbrasil.com.br/tecnologia/asteroide-potencialmente-perigoso-se-aproxima-da-terra-nesta-quarta-26/', 'https://www.cnnbrasil.com.br/tecnologia/asteroide-potencialmente-perigoso-se-aproxima-da-terra-nesta-quarta-26/', 'https://www.cnnbrasil.com.br/blogs/', 'https://www.cnnbrasil.com.br/blogs/luisa-martins/politica/defesas-estudam-contestar-video-do-8-1-exibido-por-moraes-na-sessao/', 'https://www.cnnbrasil.com.br/blogs/americo-martins/economia/macroeconomia/tarifas-dos-eua-devem-se-acomodar-com-acordos-diz-presidente-da-vale-a-cnn/', 'https://www.cnnbrasil.com.br/blogs/pedro-duran/economia/macroeconomia/da-carne-bovina-aos-avioes-os-objetivos-da-comitiva-de-lula-no-japao/', 'https://www.cnnbrasil.com.br/blogs/basilia-rodrigues/politica/advogados-avaliam-erros-e-acertos-do-primeiro-dia-de-julgamento-de-denuncia/', 'https://www.cnnbrasil.com.br/blogs/pedro-venceslau/politica/o-que-esquerda-e-direita-dizem-do-impacto-de-julgamento-no-pl-da-anistia/', 'https://www.cnnbrasil.com.br/blogs/isabel-mega/politica/sessao-recomeca-sem-bolsonaro-no-stf-ex-presidente-acompanha-do-senado/', 'https://www.cnnbrasil.com.br/blogs/jose-eduardo-cardozo/politica/cardozo-fux-e-coerente-em-votar-para-analise-de-denuncia-no-plenario-do-stf/', 'https://www.cnnbrasil.com.br/blogs/caio-coppolla/politica/coppolla-vilardi-chocou-o-publico-ao-revelar-dumping-processual-de-pgr/', 'https://www.cnnbrasil.com.br/esportes/futebol/futebol-internacional/eliminatorias/argentinos-invadem-publicacao-de-romario-e-brasileiros-rebatem/', 'https://www.cnnbrasil.com.br/esportes/futebol/futebol-internacional/eliminatorias/argentinos-invadem-publicacao-de-romario-e-brasileiros-rebatem/', 'https://www.cnnbrasil.com.br/politica/camara-aprova-projeto-de-lei-inspirado-em-larissa-manoela-entenda/', 'https://www.cnnbrasil.com.br/politica/camara-aprova-projeto-de-lei-inspirado-em-larissa-manoela-entenda/', 'https://www.cnnbrasil.com.br/nacional/sudeste/sp/video-influenciador-faz-rolezinho-com-moto-dentro-de-shopping-em-sp/', 'https://www.cnnbrasil.com.br/nacional/sudeste/sp/video-influenciador-faz-rolezinho-com-moto-dentro-de-shopping-em-sp/', 'https://www.cnnbrasil.com.br/blogs/pedro-duran/economia/macroeconomia/da-carne-bovina-aos-avioes-os-objetivos-da-comitiva-de-lula-no-japao/', 'https://www.cnnbrasil.com.br/blogs/pedro-duran/economia/macroeconomia/da-carne-bovina-aos-avioes-os-objetivos-da-comitiva-de-lula-no-japao/', 'https://www.cnnbrasil.com.br/autor/pedro-duran/', 'https://www.cnnbrasil.com.br/tecnologia/nova-especie-de-dinossauro-descoberta-lembra-edward-maos-de-tesoura/', 'https://www.cnnbrasil.com.br/tecnologia/nova-especie-de-dinossauro-descoberta-lembra-edward-maos-de-tesoura/', 'https://www.cnnbrasil.com.br/saude/alta-apos-morte-cerebral-e-possivel-entenda-caso-do-jogador-do-bragantino/', 'https://www.cnnbrasil.com.br/saude/alta-apos-morte-cerebral-e-possivel-entenda-caso-do-jogador-do-bragantino/', 'https://www.cnnbrasil.com.br/saude/como-infeccao-por-hpv-pode-virar-cancer-de-colo-de-utero-entenda/', 'https://www.cnnbrasil.com.br/saude/como-infeccao-por-hpv-pode-virar-cancer-de-colo-de-utero-entenda/', 'https://www.cnnbrasil.com.br/esportes/futebol/campeonato-paulista/corinthians-x-palmeiras-veja-como-foi-a-data-fifa-dos-convocados/', 'https://www.cnnbrasil.com.br/esportes/futebol/campeonato-paulista/corinthians-x-palmeiras-veja-como-foi-a-data-fifa-dos-convocados/', 'https://www.cnnbrasil.com.br/nacional/centro-oeste/df/psicologo-e-preso-por-torturar-e-fazer-experimentos-em-gatos-no-df/', 'https://www.cnnbrasil.com.br/nacional/centro-oeste/df/psicologo-e-preso-por-torturar-e-fazer-experimentos-em-gatos-no-df/', 'https://www.cnnbrasil.com.br/auto/novo-fiat-argo-2026-saiba-o-que-mudou-no-hatch-e-os-precos/', 'https://www.cnnbrasil.com.br/auto/novo-fiat-argo-2026-saiba-o-que-mudou-no-hatch-e-os-precos/', 'https://www.cnnbrasil.com.br/entretenimento/pedro-pascal-explica-por-que-toma-seis-doses-de-cafe-espresso-de-uma-vez/', 'https://www.cnnbrasil.com.br/entretenimento/pedro-pascal-explica-por-que-toma-seis-doses-de-cafe-espresso-de-uma-vez/', 'https://www.cnnbrasil.com.br/entretenimento/bbb/web-reage-a-eliminacao-de-aline-do-bbb25-programa-acabou/', 'https://www.cnnbrasil.com.br/entretenimento/bbb/web-reage-a-eliminacao-de-aline-do-bbb25-programa-acabou/', 'https://www.cnnbrasil.com.br/esportes/futebol/selecao-brasileira/derrota-para-argentina-entra-na-lista-de-maiores-goleadas-do-brasil-veja/', 'https://www.cnnbrasil.com.br/esportes/futebol/selecao-brasileira/derrota-para-argentina-entra-na-lista-de-maiores-goleadas-do-brasil-veja/', 'https://www.cnnbrasil.com.br/entretenimento/nunca-vamos-usar-diz-filho-de-elis-regina-sobre-holograma-em-show/', 'https://www.cnnbrasil.com.br/entretenimento/nunca-vamos-usar-diz-filho-de-elis-regina-sobre-holograma-em-show/', 'https://www.cnnbrasil.com.br/esportes/', 'https://www.cnnbrasil.com.br/esportes/futebol/selecao-brasileira/campeao-do-mundo-com-o-brasil-critica-atuacao-de-raphinha-bola-de-ouro/', 'https://www.cnnbrasil.com.br/esportes/futebol/selecao-brasileira/campeao-do-mundo-com-o-brasil-critica-atuacao-de-raphinha-bola-de-ouro/', 'https://www.cnnbrasil.com.br/esportes/futebol/selecao-brasileira/temos-que-repensar-tudo-diz-vini-jr-apos-derrota-da-selecao/', 'https://www.cnnbrasil.com.br/esportes/futebol/selecao-brasileira/temos-que-repensar-tudo-diz-vini-jr-apos-derrota-da-selecao/', 'https://www.cnnbrasil.com.br/esportes/futebol/selecao-brasileira/em-2025-brasil-sofreu-duas-goleadas-em-jogos-contra-a-argentina/', 'https://www.cnnbrasil.com.br/esportes/futebol/selecao-brasileira/em-2025-brasil-sofreu-duas-goleadas-em-jogos-contra-a-argentina/', 'https://www.cnnbrasil.com.br/esportes/futebol/selecao-brasileira/veja-as-marcas-negativas-de-dorival-junior-com-a-selecao-brasileira/', 'https://www.cnnbrasil.com.br/esportes/futebol/selecao-brasileira/veja-as-marcas-negativas-de-dorival-junior-com-a-selecao-brasileira/', 'https://www.cnnbrasil.com.br/entretenimento/bbb/', 'https://www.cnnbrasil.com.br/entretenimento/bbb/aline-descobre-criticas-feitas-por-vilma-no-bbb25-fui-o-que-pude/', 'https://www.cnnbrasil.com.br/entretenimento/bbb/aline-descobre-criticas-feitas-por-vilma-no-bbb25-fui-o-que-pude/', 'https://www.cnnbrasil.com.br/entretenimento/bbb/web-reage-a-eliminacao-de-aline-do-bbb25-programa-acabou/', 'https://www.cnnbrasil.com.br/entretenimento/bbb/web-reage-a-eliminacao-de-aline-do-bbb25-programa-acabou/', 'https://www.cnnbrasil.com.br/entretenimento/bbb/bbb25-tem-recorde-de-votos-e-3o-maior-paredao-no-novo-sistema-de-votacao/', 'https://www.cnnbrasil.com.br/entretenimento/bbb/bbb25-tem-recorde-de-votos-e-3o-maior-paredao-no-novo-sistema-de-votacao/', 'https://www.cnnbrasil.com.br/entretenimento/bbb/aline-e-eliminada-do-bbb25-com-5173-dos-votos/', 'https://www.cnnbrasil.com.br/entretenimento/bbb/aline-e-eliminada-do-bbb25-com-5173-dos-votos/', 'https://www.cnnbrasil.com.br/economia/macroeconomia/cop30-nao-pode-limitar-debate-sobre-margem-equatorial-diz-clecio-luis/', 'https://www.cnnbrasil.com.br/economia/macroeconomia/governo-avalia-pac-selecoes-para-abastecer-areas-afastadas-diz-jader-a-cnn/', 'https://www.cnnbrasil.com.br/economia/macroeconomia/investimento-procura-seguranca-juridica-diz-presidente-do-tcu-ao-cnn-talks/', 'https://www.cnnbrasil.com.br/economia/negocios/aneel-defende-reforma-do-setor-eletrico-diante-da-renovacao-das-concessoes/', 'https://www.cnnbrasil.com.br/branded-content/economia/expansao-do-grupo-leva-ecorodovias-a-desenvolver-mudanca-de-marca/', 'https://www.cnnbrasil.com.br/economia/macroeconomia/para-evitar-inflacao-santos-precisa-de-novo-terminal-diz-maersk-a-cnn/', 'https://www.cnnbrasil.com.br/economia/', 'https://www.cnnbrasil.com.br/internacional/', 'https://www.cnnbrasil.com.br/internacional/zelensky-pede-que-estados-unidos-sancionem-russia-apos-novos-ataques/', 'https://www.cnnbrasil.com.br/internacional/dinamarca-elogia-decisao-dos-eua-de-limitar-visita-a-groenlandia/', 'https://www.cnnbrasil.com.br/internacional/lula-diz-que-brasil-sera-quase-o-carro-chefe-da-transicao-energetica/', 'https://www.cnnbrasil.com.br/internacional/novas-mensagens-com-planos-militares-dos-eua-sao-divulgadas-apos-polemica/', 'https://www.cnnbrasil.com.br/internacional/no-japao-lula-fala-em-insensibilidade-e-lamenta-guerras-em-gaza-e-ucrania/', 'https://www.cnnbrasil.com.br/internacional/kiev-acusa-moscou-de-atacar-instalacoes-de-energia-apos-acordo/', 'https://www.cnnbrasil.com.br/internacional/', 'https://www.cnnbrasil.com.br/viagemegastronomia/', 'https://www.cnnbrasil.com.br/viagemegastronomia/gastronomia/onde-as-sommelieres-bebem-com-maira-freire-do-wine-bar-libo-no-rio/', 'https://www.cnnbrasil.com.br/viagemegastronomia/gastronomia/the-house-of-suntory-experience-2025-une-musica-coquetelaria-e-gastronomia/', 'https://www.cnnbrasil.com.br/viagemegastronomia/gastronomia/receitas/aprenda-a-fazer-besteira-a-milanesa-o-petisco-mais-famoso-do-bar-original/', 'https://www.cnnbrasil.com.br/viagemegastronomia/gastronomia/chef-do-la-peruana-abre-casa-focada-em-peixes-e-frutos-do-mar-em-pinheiros/', 'https://www.cnnbrasil.com.br/viagemegastronomia/viagem/conheca-agrigento-a-capital-da-cultura-italiana-em-2025/', 'https://www.cnnbrasil.com.br/viagemegastronomia/viagem/salar-de-uyuni-tem-cenarios-unicos-no-mundo-e-encontro-entre-ceu-e-terra/', 'https://www.cnnbrasil.com.br/viagemegastronomia/', 'https://www.cnnbrasil.com.br/ao-vivo/', 'https://www.cnnbrasil.com.br/ao-vivo/', 'https://www.cnnbrasil.com.br/ultimas-noticias/', 'http://www.cnnbrasil.com.br/esportes/futebol/futebol-internacional/eliminatorias/brasil-leva-vexame-da-argentina-e-goleado-e-raphinha-nao-cumpre-promessa/ ', 'http://www.cnnbrasil.com.br/esportes/futebol/selecao-brasileira/brasil-cai-para-quarta-posicao-nas-eliminatorias-veja-situacao-da-selecao/ ', 'http://www.cnnbrasil.com.br/nacional/greve-da-cptm-e-suspensa-em-sao-paulo-apos-assembleia/ ', 'http://www.cnnbrasil.com.br/economia/financas/emprestimo-para-clt-entenda-juros-prazo-para-recebimento-e-parcelas/ ', 'http://www.cnnbrasil.com.br/esportes/futebol/futebol-internacional/eliminatorias/enquete-dorival-deve-ser-demitido-da-selecao-brasileira-vote/ ', 'http://www.cnnbrasil.com.br/esportes/futebol/futebol-internacional/eliminatorias/entenda-os-5-motivos-que-levaram-o-brasil-a-ser-humilhado-pela-argentina/ ', 'http://www.cnnbrasil.com.br/economia/financas/emprestimo-para-clt-trabalhadores-com-nome-sujo-podem-pedir/ ', 'http://www.cnnbrasil.com.br/politica/stf-retoma-julgamento-de-denuncia-que-pode-tornar-bolsonaro-reu/ ', 'http://www.cnnbrasil.com.br/esportes/futebol/futebol-internacional/eliminatorias/argentina-x-brasil-acompanhe-os-lances-do-classico-pelas-eliminatorias/ ', 'http://www.cnnbrasil.com.br/economia/financas/consignado-clt-caixa-oferta-credito-com-juros-a-partir-de-16-ao-mes/ ', 'https://www.cnnbrasil.com.br/esportes/lances-ao-vivo/copa-do-nordeste-2025/26-03-2025/bahia-x-ceara', 'https://www.cnnbrasil.com.br/esportes/lances-ao-vivo/copa-do-nordeste-2025/26-03-2025/ferroviario-x-sousa-pb', 'https://www.cnnbrasil.com.br/esportes/lances-ao-vivo/copa-do-nordeste-2025/26-03-2025/sport-x-altos-pi', 'https://www.cnnbrasil.com.br/esportes/lances-ao-vivo/copa-do-nordeste-2025/26-03-2025/fortaleza-x-crb', 'https://www.cnnbrasil.com.br/esportes/lances-ao-vivo/copa-do-nordeste-2025/26-03-2025/moto-club-x-vitoria', 'https://www.cnnbrasil.com.br/esportes/lances-ao-vivo/laliga-24-25/27-03-2025/barcelona-x-osasuna', 'https://www.cnnbrasil.com.br/esportes/lances-ao-vivo/paulistao-2025/27-03-2025/corinthians-x-palmeiras', 'https://www.cnnbrasil.com.br/esportes/agenda/', 'https://conteudos.cnnbrasil.com.br/termos-de-uso-da-cnn-brasil/', 'https://stories.cnnbrasil.com.br/', 'https://stories.cnnbrasil.com.br/?p=403752', 'https://stories.cnnbrasil.com.br/?p=403723', 'https://stories.cnnbrasil.com.br/?p=403650', 'https://stories.cnnbrasil.com.br/?p=403833', 'https://stories.cnnbrasil.com.br/?p=403794', 'https://stories.cnnbrasil.com.br/?p=403433', 'https://stories.cnnbrasil.com.br/?p=403779', 'https://stories.cnnbrasil.com.br/?p=403700', 'https://stories.cnnbrasil.com.br/?p=403434', 'https://stories.cnnbrasil.com.br/?p=403472', 'https://stories.cnnbrasil.com.br/?p=403554', 'https://stories.cnnbrasil.com.br/?p=403543', 'https://www.cnnbrasil.com.br/politica/', 'https://www.cnnbrasil.com.br/politica/me-tratava-como-um-filho-diz-alvaro-damiao-sobre-fuad-noman/', 'https://www.cnnbrasil.com.br/politica/bolsonaro-ora-com-damares-e-aliados-momentos-antes-de-julgamento-do-stf/', 'https://www.cnnbrasil.com.br/politica/zanin-vota-por-tornar-reus-bolsonaro-e-7-aliados-por-trama-golpista/', 'https://www.cnnbrasil.com.br/politica/fux-elogia-voto-de-moraes-nao-deixou-pedra-sobre-pedra/', 'https://www.cnnbrasil.com.br/blogs/teo-cury/politica/improviso-e-referencias-dino-constroi-voto-com-anotacoes-feitas-a-mao/', 'https://www.cnnbrasil.com.br/politica/carmen-lucia-vota-para-tornar-reus-jair-bolsonaro-e-mais-sete-denunciados/', 'https://www.cnnbrasil.com.br/politica/', 'https://www.cnnbrasil.com.br/educacao/cursinho-gratuito-para-o-enem-abre-inscricoes-saiba-os-criterios/', 'https://www.cnnbrasil.com.br/educacao/ufpe-lanca-bacharelado-em-inteligencia-artificial/', 'https://www.cnnbrasil.com.br/educacao/prouni-abre-inscricoes-para-lista-de-espera-veja-como-participar/', 'https://www.cnnbrasil.com.br/educacao/programa-no-japao-oferece-bolsas-para-mulheres-veja-como-se-inscrever/', 'https://www.cnnbrasil.com.br/educacao/feira-do-livro-divulga-primeiros-confirmados-na-edicao-de-2025/', 'https://www.cnnbrasil.com.br/educacao/unicamp-divulga-obras-obrigatorias-para-os-proximos-vestibulares/', 'https://www.cnnbrasil.com.br/saude/', 'https://www.cnnbrasil.com.br/saude/choque-cardiogenico-sabia-o-que-e-como-ocorre-e-causas/', 'https://www.cnnbrasil.com.br/saude/sarcopenia-e-envelhecimento-saudavel-como-evitar-perda-muscular-com-idade/', 'https://www.cnnbrasil.com.br/saude/chicletes-podem-liberar-microplasticos-na-saliva-aponta-novo-estudo/', 'https://www.cnnbrasil.com.br/saude/como-infeccao-por-hpv-pode-virar-cancer-de-colo-de-utero-entenda/', 'https://www.cnnbrasil.com.br/saude/alta-apos-morte-cerebral-e-possivel-entenda-caso-do-jogador-do-bragantino/', 'https://www.cnnbrasil.com.br/saude/entenda-como-antidepresivos-podem-aumentar-a-vulnerabilidade-ao-calor/', 'https://www.cnnbrasil.com.br/saude/', 'https://www.cnnbrasil.com.br/auto/', 'https://www.cnnbrasil.com.br/auto/quais-e-como-sao-os-suvs-mais-vendidos-ate-agora-em-2025/', 'https://www.cnnbrasil.com.br/auto/novo-fiat-argo-2026-saiba-o-que-mudou-no-hatch-e-os-precos/', 'https://www.cnnbrasil.com.br/pop/', 'https://www.cnnbrasil.com.br/lifestyle/vale-tudo-alice-wegmann-adianta-look-fashionista-de-solange-duprat/', 'https://www.cnnbrasil.com.br/entretenimento/vale-tudo-conheca-ator-portugues-que-tera-romance-com-odete-roitman/', 'https://www.cnnbrasil.com.br/entretenimento/bbb/aline-descobre-criticas-feitas-por-vilma-no-bbb25-fui-o-que-pude/', 'https://www.cnnbrasil.com.br/lifestyle/procura-se-susan-desesperadamente-consolidou-estilo-de-madonna-relembre/', 'https://www.cnnbrasil.com.br/entretenimento/vale-tudo-veja-reacoes-dos-internautas-com-chamada-de-odete-roitman/', 'https://www.cnnbrasil.com.br/entretenimento/pedro-pascal-explica-por-que-toma-seis-doses-de-cafe-espresso-de-uma-vez/', 'https://www.cnnbrasil.com.br/pop/', 'https://www.cnnbrasil.com.br/lifestyle/vale-tudo-alice-wegmann-adianta-look-fashionista-de-solange-duprat/', 'https://www.cnnbrasil.com.br/lifestyle/procura-se-susan-desesperadamente-consolidou-estilo-de-madonna-relembre/', 'https://www.cnnbrasil.com.br/nacional/', 'https://www.cnnbrasil.com.br/nacional/nordeste/ba/traicao-e-vinganca-casal-foge-apos-matar-amante-mas-acaba-preso-no-rj/', 'https://www.cnnbrasil.com.br/nacional/sudeste/rj/idosa-de-81-anos-e-presa-por-liderar-sequestro-e-extorsao-no-rio/', 'https://www.cnnbrasil.com.br/nacional/sul/rs/o-que-se-sabe-sobre-pai-que-jogou-filho-de-ponte-no-rs/', 'https://www.cnnbrasil.com.br/nacional/sudeste/mg/video-policiais-agridem-pai-e-filho-em-bar-de-minas-gerais/', 'https://www.cnnbrasil.com.br/nacional/sudeste/es/criminosos-invadem-delegacia-e-furtam-armas-coletes-e-municoes-no-es/', 'https://www.cnnbrasil.com.br/nacional/sul/pr/homem-usa-falsa-agencia-de-modelos-para-extorquir-e-abusar-de-vitimas-no-pr/', 'https://www.cnnbrasil.com.br/nacional/', 'https://www.cnnbrasil.com.br/tecnologia/', 'https://www.cnnbrasil.com.br/tecnologia/sons-emitidos-por-tubaroes-sao-registrados-pela-primeira-vez-ouca/', 'https://www.cnnbrasil.com.br/tecnologia/eclipse-solar-saiba-o-horario-do-fenomeno-neste-sabado/', 'https://www.cnnbrasil.com.br/tecnologia/asteroide-potencialmente-perigoso-se-aproxima-da-terra-nesta-quarta-26/', 'https://www.cnnbrasil.com.br/tecnologia/eclipse-solar-no-brasil-saiba-se-sera-visivel-no-pais/', 'https://www.cnnbrasil.com.br/tecnologia/nova-especie-de-dinossauro-descoberta-lembra-edward-maos-de-tesoura/', 'https://www.cnnbrasil.com.br/tecnologia/5-dicas-antes-de-adquirir-um-novo-fone-de-ouvido/', 'https://www.cnnbrasil.com.br/tecnologia/', 'https://www.cnnbrasil.com.br/ao-vivo/', 'https://www.facebook.com/cnnbrasil/', 'https://www.instagram.com/cnnbrasil/?hl=pt-br', 'https://www.linkedin.com/company/cnnbrasil/', 'https://br.pinterest.com/cnnbrasilsoft/_created/', 'https://www.tiktok.com/@cnnbrasil', 'https://conteudos.cnnbrasil.com.br/equipe-cnn-brasil/', 'https://conteudos.cnnbrasil.com.br/programacao-cnn-brasil/', 'https://newsletter.cnnbrasil.com.br/', 'https://www.cnnbrasil.com.br/sitemap_index.xml', 'https://hotsite.cnnbrasil.com.br/distribuicao/', 'https://www.cnnbrasil.com.br/', 'https://www.cnnbrasil.com.br/ao-vivo/', 'https://www.cnnbrasil.com.br/politica/', 'https://www.cnnbrasil.com.br/nacional/', 'https://www.cnnbrasil.com.br/economia/', 'https://www.cnnbrasil.com.br/internacional/', 'https://www.cnnbrasil.com.br/entretenimento', 'https://www.cnnbrasil.com.br/esportes/', 'https://www.cnnbrasil.com.br/saude/', 'https://www.cnnbrasil.com.br/tecnologia/', 'https://www.cnnbrasil.com.br/viagemegastronomia/', 'https://www.cnnbrasil.com.br/auto/ultimas-noticias', 'https://www.cnnbrasil.com.br/lifestyle/', 'https://www.cnnbrasil.com.br/politica/', 'https://www.cnnbrasil.com.br/eleicoes', 'https://www.cnnbrasil.com.br/eleicoes/2024/apuracao/segundo-turno/', 'https://www.cnnbrasil.com.br/apuracao-nas-cidades/', 'https://www.cnnbrasil.com.br/eleicoes/agregador-de-pesquisas/', 'https://www.cnnbrasil.com.br/eleicoes/2024/candidatos/', 'https://www.cnnbrasil.com.br/tudo-sobre/governo-lula/', 'https://www.cnnbrasil.com.br/tudo-sobre/camara-dos-deputados/', 'https://www.cnnbrasil.com.br/tudo-sobre/senado-federal/', 'https://www.cnnbrasil.com.br/tudo-sobre/supremo-tribunal-federal-stf/', 'https://www.cnnbrasil.com.br/tudo-sobre/politicas-publicas/', 'https://www.cnnbrasil.com.br/nacional/', 'https://www.cnnbrasil.com.br/tudo-sobre/educacao/', 'https://www.cnnbrasil.com.br/tudo-sobre/seguranca/', 'https://www.cnnbrasil.com.br/tudo-sobre/clima/', 'https://www.cnnbrasil.com.br/tudo-sobre/meio-ambiente/', 'https://www.cnnbrasil.com.br/tudo-sobre/auxilio-brasil/', 'https://www.cnnbrasil.com.br/tudo-sobre/sao-paulo-estado/', 'https://www.cnnbrasil.com.br/tudo-sobre/rio-de-janeiro-estado/', 'https://www.cnnbrasil.com.br/tudo-sobre/minas-gerais/', 'https://www.cnnbrasil.com.br/tudo-sobre/brasilia/', 'https://www.cnnbrasil.com.br/economia/', 'https://www.cnnbrasil.com.br/tudo-sobre/mercado/', 'https://www.cnnbrasil.com.br/tudo-sobre/investimentos/', 'https://www.cnnbrasil.com.br/cotacoes', 'https://www.cnnbrasil.com.br/tudo-sobre/banco-central-bc/', 'https://www.cnnbrasil.com.br/tudo-sobre/bolsa-de-valores/', 'https://www.cnnbrasil.com.br/tudo-sobre/imposto-de-renda/', 'https://www.cnnbrasil.com.br/tudo-sobre/financas-pessoais/', 'https://www.cnnbrasil.com.br/economia/loterias/', 'https://www.cnnbrasil.com.br/tudo-sobre/sustentabilidade/', 'https://www.cnnbrasil.com.br/internacional/', 'https://www.cnnbrasil.com.br/tudo-sobre/eleicoes-eua/', 'https://www.cnnbrasil.com.br/tudo-sobre/guerra-na-ucrania/', 'https://www.cnnbrasil.com.br/tudo-sobre/guerra-de-israel/', 'https://www.cnnbrasil.com.br/tudo-sobre/estados-unidos/', 'https://www.cnnbrasil.com.br/tudo-sobre/europa/', 'https://www.cnnbrasil.com.br/tudo-sobre/asia/', 'https://www.cnnbrasil.com.br/tudo-sobre/africa/', 'https://www.cnnbrasil.com.br/tudo-sobre/oriente-medio/', 'https://www.cnnbrasil.com.br/tudo-sobre/russia/', 'https://www.cnnbrasil.com.br/tudo-sobre/china/', 'https://www.cnnbrasil.com.br/entretenimento/', 'https://www.cnnbrasil.com.br/entretenimento/bbb/', 'https://www.cnnbrasil.com.br/tudo-sobre/celebridades/', 'https://www.cnnbrasil.com.br/tudo-sobre/cinema/', 'https://www.cnnbrasil.com.br/tudo-sobre/televisao/', 'https://www.cnnbrasil.com.br/tudo-sobre/streaming/', 'https://www.cnnbrasil.com.br/tudo-sobre/shows/', 'https://www.cnnbrasil.com.br/tudo-sobre/carnaval/', 'https://www.cnnbrasil.com.br/tudo-sobre/musica/', 'https://www.cnnbrasil.com.br/tudo-sobre/horoscopo/', 'https://www.cnnbrasil.com.br/esportes/', 'https://www.cnnbrasil.com.br/esportes/agenda/', 'https://www.cnnbrasil.com.br/esportes/futebol/tabela-do-brasileirao/', 'https://www.cnnbrasil.com.br/esportes/futebol/tabela-do-brasileirao-serie-b/', 'https://www.cnnbrasil.com.br/esportes/futebol/tabela-eliminatorias-2026/', 'https://www.cnnbrasil.com.br/tudo-sobre/copa-libertadores-da-america/', 'https://www.cnnbrasil.com.br/esportes/olimpiadas/', 'https://www.cnnbrasil.com.br/esportes/basquete/', 'https://www.cnnbrasil.com.br/tudo-sobre/volei/', 'https://www.cnnbrasil.com.br/esportes/automobilismo/', 'https://www.cnnbrasil.com.br/tudo-sobre/golf/', 'https://www.cnnbrasil.com.br/esportes/esports/', 'https://www.cnnbrasil.com.br/saude/', 'https://www.cnnbrasil.com.br/tudo-sobre/cnn-sinais-vitais/', 'https://www.cnnbrasil.com.br/tudo-sobre/alimentacao/', 'https://www.cnnbrasil.com.br/tudo-sobre/exercicios-fisicos/', 'https://www.cnnbrasil.com.br/tudo-sobre/vacinacao/', 'https://www.cnnbrasil.com.br/tudo-sobre/cancer/', 'https://www.cnnbrasil.com.br/tudo-sobre/drogas/', 'https://www.cnnbrasil.com.br/tudo-sobre/obesidade/', 'https://www.cnnbrasil.com.br/tecnologia/', 'https://www.cnnbrasil.com.br/tudo-sobre/inteligencia-artificial/', 'https://www.cnnbrasil.com.br/tudo-sobre/nasa/', 'https://www.cnnbrasil.com.br/tudo-sobre/ciencia/', 'https://www.cnnbrasil.com.br/tudo-sobre/curiosidades/', 'https://www.cnnbrasil.com.br/viagemegastronomia/', 'https://www.cnnbrasil.com.br/viagemegastronomia/viagem/', 'https://www.cnnbrasil.com.br/viagemegastronomia/gastronomia/', 'https://conteudos.cnnbrasil.com.br/sobre-a-cnn-brasil/', 'https://conteudos.cnnbrasil.com.br/privacidade/', 'https://conteudos.cnnbrasil.com.br/termos-de-uso-da-cnn-brasil/', 'https://conteudos.cnnbrasil.com.br/fale-com-a-cnn/', 'https://cnnbrasil.gupy.io/']\n"
          ]
        }
      ],
      "source": [
        "def get_links (url):\n",
        "    req = Request(url)\n",
        "    page = urlopen(req)\n",
        "    soup = BeautifulSoup(page, \"lxml\")\n",
        "    links = []\n",
        "\n",
        "    for link in soup.find_all('a'):\n",
        "        x = str(link.get(\"href\"))\n",
        "        if ('http' in x) and ('cnn'in x):\n",
        "            links.append(x)\n",
        "\n",
        "    return links\n",
        "\n",
        "url = \"https://www.cnnbrasil.com.br\"\n",
        "links = get_links(url)\n",
        "\n",
        "print(links)"
      ]
    },
    {
      "cell_type": "markdown",
      "source": [
        "##Titulos"
      ],
      "metadata": {
        "id": "_-szXO2BURJX"
      }
    },
    {
      "cell_type": "code",
      "source": [
        "def get_titulo(link):\n",
        "  req = Request(link)\n",
        "  page = urlopen(req)\n",
        "  soup = BeautifulSoup(page, \"lxml\")\n",
        "  titulos = []\n",
        "\n",
        "  for tag in soup.find_all(['h1']):\n",
        "    titulos.append(tag.text.strip()) #strip () vai retirar os espaços no começo e fim\n",
        "\n",
        "  return titulos"
      ],
      "metadata": {
        "id": "_FlczNqlUVCD"
      },
      "execution_count": 23,
      "outputs": []
    },
    {
      "cell_type": "markdown",
      "source": [
        "##Texto\n"
      ],
      "metadata": {
        "id": "K1ETvFfSmZ5F"
      }
    },
    {
      "cell_type": "code",
      "source": [
        "def get_texto(link):\n",
        "  req = Request(link)\n",
        "\n",
        "  try:\n",
        "    page = urlopen(req)\n",
        "  except HTTPError as e:\n",
        "    if e.code == 429:\n",
        "      wait_time = random.uniform(1,10)\n",
        "      time.sleep(wait_time)\n",
        "      return get_texto(link)\n",
        "    else:\n",
        "      raise\n",
        "  soup = BeautifulSoup(page, \"lxml\")\n",
        "\n",
        "  conteudo_artigo = soup.find('div', class_='single-content')\n",
        "\n",
        "  if conteudo_artigo:\n",
        "    texto = '\\n'.join([p.text.strip() for p in conteudo_artigo.find_all('p')])\n",
        "    return texto\n",
        "  else:\n",
        "    return ''\n",
        "  #textos = []\n",
        "\n",
        "\n",
        "  #texto = NewsPlease.from_url(link)\n",
        "  #return texto.text\n",
        "\n",
        "\n",
        "  #for tag in soup.find_all(['p']):\n",
        "  #  textos.append(tag.text.strip())\n",
        "\n",
        " # return textos\n",
        "\n",
        "link = \"https://www.cnnbrasil.com.br/politica/gusttavo-lima-publica-video-confirmando-desistencia-de-candidatura-veja/\"\n",
        "print(get_texto(link))\n"
      ],
      "metadata": {
        "colab": {
          "base_uri": "https://localhost:8080/"
        },
        "id": "zB3J-ZbWm8iG",
        "outputId": "0062f1bd-478d-46e6-a574-e86bd3705422"
      },
      "execution_count": null,
      "outputs": [
        {
          "output_type": "stream",
          "name": "stdout",
          "text": [
            "Pouco mais de dois meses após colocar seu nome “à disposição” para concorrer à Presidência da República em 2026, o cantor Gusttavo Lima anunciou nesta quarta-feira (19) que não será candidato. Em vídeo publicado nas redes sociais, o cantor afirmou que vai continuar sua “carreira artística e tocar os meus negócios”.\n",
            "“Quero ressaltar aqui que não sou candidato a nenhum cargo político. Em 26 não serei candidato, nem mesmo sou filiado a qualquer um partido. Manifestei, sim, meu interesse de ajudar o Brasil. Meu objetivo é contribuir de outras formas, sem a necessidade de concorrer ou ser eleito para algum cargo público”, disse.\n",
            "A verdadeira política é o Instituto Embaixador, conto com vcs pra mais essa grande missão !!! 🏛️ #QuePenaQueAcabou pic.twitter.com/3BZxtGZ2Wf\n",
            "— Gusttavo Lima (@gusttavo_lima) March 19, 2025\n",
            "\n",
            "“Quero que todos os lados políticos se unam em prol do povo brasileiro. Vou continuar minha carreira artística e tocar os meus negócios. Tenho muitas novidades para vocês que acompanham a vida do bebê aqui. Eu peço a todos que respeitem a minha opinião, a minha posição e a minha imparcialidade”, afirmou Gusttavo em outro trecho da gravação.\n",
            "Mais cedo, a informação foi veiculada em uma entrevista ao portal Metrópoles, como mostrou a CNN.\n",
            "O nome do cantor, que colocou-se “à disposição” para concorrer à Presidência da República no início de janeiro, chegou a ser considerado em diversas pesquisas de intenção de voto.\n",
            "Em uma delas, o artista apareceu com a menor diferença para o atual presidente, Luiz Inácio Lula da Silva (PT), em um eventual segundo turno.\n",
            "No levantamento da Genial/Quaest, em um primeiro cenário, o petista tinha 41% das intenções de voto, ante 35% do sertanejo. Os indecisos somavam 3% e os brancos, nulos ou que não vão votar eram 21%.\n"
          ]
        }
      ]
    },
    {
      "cell_type": "markdown",
      "metadata": {
        "id": "8Yd-oohzhNOc"
      },
      "source": [
        "# conexão com BD"
      ]
    },
    {
      "cell_type": "code",
      "execution_count": null,
      "metadata": {
        "id": "iFdRlQFphSGx",
        "colab": {
          "base_uri": "https://localhost:8080/"
        },
        "outputId": "677cafe6-27d1-44be-8a63-48e51f67c462"
      },
      "outputs": [
        {
          "output_type": "stream",
          "name": "stdout",
          "text": [
            "Conexão bem-sucedida!\n"
          ]
        }
      ],
      "source": [
        "import psycopg2 as ps\n",
        "\n",
        "def connection():\n",
        "    host = 'aws-0-us-east-1.pooler.supabase.com'\n",
        "    database = 'postgres'\n",
        "    user = 'postgres.uukllbhblupwoaizjsyh'\n",
        "    password = 'noticia2025'  # substitua pela sua senha real\n",
        "    port = 6543\n",
        "\n",
        "    try:\n",
        "        conn = ps.connect(\n",
        "            host=host,\n",
        "            database=database,\n",
        "            user=user,\n",
        "            password=password,\n",
        "            port=port\n",
        "        )\n",
        "    except ps.OperationalError as e:\n",
        "        raise e\n",
        "    else:\n",
        "        return conn\n",
        "conn = connection()\n",
        "print(\"Conexão bem-sucedida!\") if conn else print(\"Erro na conexão.\")\n"
      ]
    },
    {
      "cell_type": "markdown",
      "metadata": {
        "id": "_Sd3xex6ifPZ"
      },
      "source": [
        "#Inserção de dados no banco - Criação da Fila de Links\n"
      ]
    },
    {
      "cell_type": "code",
      "execution_count": null,
      "metadata": {
        "id": "AHy_YDRlrgdx",
        "collapsed": true
      },
      "outputs": [],
      "source": [
        "def visita_links():\n",
        "  cursor = conn.cursor()\n",
        "  for link in links:\n",
        "      try:\n",
        "          postgres_insert_query = \"\"\"\n",
        "          INSERT INTO noticia (url, data_visita)\n",
        "          VALUES (%s, current_timestamp)\n",
        "          ON CONFLICT (url) DO NOTHING\n",
        "          \"\"\"\n",
        "          cursor.execute(postgres_insert_query, (link,))\n",
        "      except Exception as e:\n",
        "          print(f\"Erro ao inserir o link {link}: {e}\")\n",
        "          conn.rollback()\n",
        "      else:\n",
        "          conn.commit()\n",
        "\n",
        "#visita_links()\n"
      ]
    },
    {
      "cell_type": "markdown",
      "source": [
        "#Extrair categoria"
      ],
      "metadata": {
        "id": "no5J453r6FAX"
      }
    },
    {
      "cell_type": "code",
      "source": [
        "from urllib.parse import urlparse\n",
        "\n",
        "def coleta_categoria(url):\n",
        "    \"\"\"\n",
        "    Extrai a categoria de uma URL da CNN Brasil, se aplicável.\n",
        "    Exemplo:\n",
        "    https://www.cnnbrasil.com.br/politica/alguma-noticia -> retorna 'politica'\n",
        "    Continuar verificações para outras páginas\n",
        "    \"\"\"\n",
        "    try:\n",
        "        parsed = urlparse(url)\n",
        "        dominio = parsed.netloc\n",
        "        caminho = parsed.path.strip(\"/\").split(\"/\")\n",
        "\n",
        "        if \"cnnbrasil.com.br\" in dominio and len(caminho) >= 1:\n",
        "            categoria = caminho[0]\n",
        "            return categoria\n",
        "    except Exception as e:\n",
        "        print(f\"[ERRO] Falha ao extrair categoria da URL {url}: {e}\")\n",
        "\n",
        "    return \"desconhecida\"\n"
      ],
      "metadata": {
        "id": "H9QupAJK6HWz"
      },
      "execution_count": null,
      "outputs": []
    },
    {
      "cell_type": "markdown",
      "source": [
        "#Coleta Notícia - Corpo e Título"
      ],
      "metadata": {
        "id": "QK78XJFK3sSa"
      }
    },
    {
      "cell_type": "code",
      "source": [
        "#ir vendo os erros e tratando com try catch\n",
        "#fazer uma função para coletar titulo e data e inserir aqui\n",
        "cursor = conn.cursor()\n",
        "cursor.execute(\"SELECT id, url FROM noticia WHERE data_coleta IS NULL\")\n",
        "pendentes = cursor.fetchall()\n",
        "\n",
        "for noticia_id, url in pendentes:\n",
        "    texto = get_texto(url)\n",
        "    data_coleta = datetime.now()\n",
        "\n",
        "    if texto.strip():\n",
        "        titulo = url.split(\"/\")[-2].replace(\"-\", \" \").capitalize()\n",
        "        categoria = categoria = coleta_categoria(url)\n",
        "\n",
        "        try:\n",
        "            update_query = \"\"\"\n",
        "            UPDATE noticia\n",
        "            SET titulo = %s,\n",
        "                texto = %s,\n",
        "                categoria = %s,\n",
        "                data_coleta = %s,\n",
        "                data_visita = %s\n",
        "            WHERE id = %s\n",
        "            \"\"\"\n",
        "            cursor.execute(update_query, (\n",
        "                titulo,\n",
        "                texto,\n",
        "                categoria,\n",
        "                data_coleta,\n",
        "                data_coleta,\n",
        "                noticia_id\n",
        "            ))\n",
        "            conn.commit()\n",
        "            print(f\"[OK] Notícia atualizada: {url}\")\n",
        "        except Exception as e:\n",
        "            conn.rollback()\n",
        "            print(f\"[ERRO] Falha ao atualizar {url}: {e}\")\n",
        "    else:\n",
        "        print(f\"[AVISO] Sem conteúdo em {url}\")\n"
      ],
      "metadata": {
        "colab": {
          "base_uri": "https://localhost:8080/",
          "height": 1000
        },
        "id": "DBWTbKO-5Urf",
        "outputId": "10e8d615-b233-40c7-af83-27aab2e9608c"
      },
      "execution_count": null,
      "outputs": [
        {
          "output_type": "stream",
          "name": "stdout",
          "text": [
            "[AVISO] Sem conteúdo em https://www.cnnbrasil.com.br/entretenimento\n",
            "[AVISO] Sem conteúdo em https://www.cnnbrasil.com.br/auto/ultimas-noticias\n",
            "[AVISO] Sem conteúdo em https://www.cnnbrasil.com.br/eleicoes\n",
            "[AVISO] Sem conteúdo em https://www.cnnbrasil.com.br/eleicoes/2024/apuracao/segundo-turno/\n",
            "[AVISO] Sem conteúdo em https://www.cnnbrasil.com.br/apuracao-nas-cidades/\n",
            "[AVISO] Sem conteúdo em https://www.cnnbrasil.com.br/eleicoes/agregador-de-pesquisas/\n",
            "[AVISO] Sem conteúdo em https://www.cnnbrasil.com.br/eleicoes/2024/candidatos/\n",
            "[AVISO] Sem conteúdo em https://www.cnnbrasil.com.br/tudo-sobre/governo-lula/\n",
            "[AVISO] Sem conteúdo em https://www.cnnbrasil.com.br/tudo-sobre/camara-dos-deputados/\n",
            "[AVISO] Sem conteúdo em https://www.cnnbrasil.com.br/tudo-sobre/senado-federal/\n",
            "[AVISO] Sem conteúdo em https://www.cnnbrasil.com.br/tudo-sobre/supremo-tribunal-federal-stf/\n",
            "[AVISO] Sem conteúdo em https://www.cnnbrasil.com.br/tudo-sobre/politicas-publicas/\n",
            "[AVISO] Sem conteúdo em https://www.cnnbrasil.com.br/tudo-sobre/educacao/\n",
            "[AVISO] Sem conteúdo em https://www.cnnbrasil.com.br/economia/loterias/resultados/duplasena/\n",
            "[AVISO] Sem conteúdo em https://www.cnnbrasil.com.br/cop-30\n",
            "[AVISO] Sem conteúdo em https://www.cnnbrasil.com.br/politica/\n",
            "[AVISO] Sem conteúdo em https://www.cnnbrasil.com.br/ww/\n",
            "[AVISO] Sem conteúdo em https://www.cnnbrasil.com.br/internacional/\n",
            "[AVISO] Sem conteúdo em https://www.cnnbrasil.com.br/nacional/\n",
            "[AVISO] Sem conteúdo em https://www.cnnbrasil.com.br/economia/\n",
            "[AVISO] Sem conteúdo em https://www.cnnbrasil.com.br/economia/investimentos\n",
            "[AVISO] Sem conteúdo em https://www.cnnbrasil.com.br/economia/mercado/ultimas-noticias/\n",
            "[AVISO] Sem conteúdo em https://www.cnnbrasil.com.br/cotacoes/bolsa/\n",
            "[AVISO] Sem conteúdo em https://www.cnnbrasil.com.br/economia/loterias/\n",
            "[AVISO] Sem conteúdo em https://www.cnnbrasil.com.br/economia/loterias/resultados/megasena/\n",
            "[AVISO] Sem conteúdo em https://www.cnnbrasil.com.br/economia/loterias/resultados/quina/\n",
            "[AVISO] Sem conteúdo em https://www.cnnbrasil.com.br/economia/loterias/resultados/lotofacil/\n",
            "[AVISO] Sem conteúdo em https://www.cnnbrasil.com.br/economia/loterias/resultados/lotomania/\n",
            "[AVISO] Sem conteúdo em https://www.cnnbrasil.com.br/esportes/agenda/\n",
            "[AVISO] Sem conteúdo em https://www.cnnbrasil.com.br/lifestyle/\n",
            "[AVISO] Sem conteúdo em https://www.cnnbrasil.com.br/viagemegastronomia/\n",
            "[AVISO] Sem conteúdo em https://www.cnnbrasil.com.br/auto/\n",
            "[AVISO] Sem conteúdo em https://www.cnnbrasil.com.br/educacao/\n",
            "[AVISO] Sem conteúdo em https://www.cnnbrasil.com.br/cnn-talks/\n",
            "[AVISO] Sem conteúdo em https://www.cnnbrasil.com.br/opiniao/\n",
            "[AVISO] Sem conteúdo em https://www.cnnbrasil.com.br/blogs/\n",
            "[AVISO] Sem conteúdo em https://www.cnnbrasil.com.br/colunas/\n",
            "[AVISO] Sem conteúdo em https://conteudos.cnnbrasil.com.br/programacao-cnn-brasil/\n",
            "[AVISO] Sem conteúdo em https://conteudos.cnnbrasil.com.br/equipe-cnn-brasil/\n",
            "[AVISO] Sem conteúdo em https://newsletter.cnnbrasil.com.br/\n",
            "[AVISO] Sem conteúdo em https://www.cnnbrasil.com.br/colunistas/\n",
            "[AVISO] Sem conteúdo em https://conteudos.cnnbrasil.com.br/sobre-a-cnn-brasil/\n",
            "[AVISO] Sem conteúdo em https://conteudos.cnnbrasil.com.br/privacidade/\n",
            "[AVISO] Sem conteúdo em https://conteudos.cnnbrasil.com.br/termos-de-uso-da-cnn-brasil/\n",
            "[AVISO] Sem conteúdo em https://conteudos.cnnbrasil.com.br/fale-com-a-cnn/\n",
            "[AVISO] Sem conteúdo em https://hotsite.cnnbrasil.com.br/distribuicao/\n",
            "[AVISO] Sem conteúdo em https://cnnbrasil.gupy.io/\n",
            "[AVISO] Sem conteúdo em https://www.cnnbrasil.com.br/economia/loterias/resultados/federal/\n",
            "[AVISO] Sem conteúdo em https://www.cnnbrasil.com.br/economia/loterias/resultados/timemania/\n",
            "[AVISO] Sem conteúdo em https://www.cnnbrasil.com.br/economia/loterias/resultados/loteca/\n",
            "[AVISO] Sem conteúdo em https://www.cnnbrasil.com.br/economia/loterias/resultados/diadesorte/\n",
            "[AVISO] Sem conteúdo em https://www.cnnbrasil.com.br/economia/loterias/resultados/supersete/\n",
            "[AVISO] Sem conteúdo em https://www.cnnbrasil.com.br/economia/money/\n",
            "[AVISO] Sem conteúdo em https://www.cnnbrasil.com.br/pop/\n",
            "[AVISO] Sem conteúdo em https://www.cnnbrasil.com.br/saude/\n",
            "[AVISO] Sem conteúdo em https://www.cnnbrasil.com.br/esportes/\n",
            "[AVISO] Sem conteúdo em https://www.cnnbrasil.com.br/esportes/olimpiadas/\n",
            "[AVISO] Sem conteúdo em https://www.cnnbrasil.com.br/esportes/futebol/\n",
            "[AVISO] Sem conteúdo em https://www.cnnbrasil.com.br/esportes/brasileirao/\n",
            "[AVISO] Sem conteúdo em https://www.cnnbrasil.com.br/esportes/basquete/\n",
            "[AVISO] Sem conteúdo em https://www.cnnbrasil.com.br/esportes/automobilismo/\n",
            "[AVISO] Sem conteúdo em https://www.cnnbrasil.com.br/esportes/tenis/\n",
            "[AVISO] Sem conteúdo em https://www.cnnbrasil.com.br/esportes/esports/\n",
            "[AVISO] Sem conteúdo em https://www.cnnbrasil.com.br/tecnologia/\n",
            "[AVISO] Sem conteúdo em https://www.cnnbrasil.com.br/autor/pedro-duran/\n",
            "[AVISO] Sem conteúdo em https://www.cnnbrasil.com.br/entretenimento/bbb/\n",
            "[AVISO] Sem conteúdo em https://www.cnnbrasil.com.br/ao-vivo/\n",
            "[AVISO] Sem conteúdo em https://www.cnnbrasil.com.br/ultimas-noticias/\n",
            "[AVISO] Sem conteúdo em https://www.cnnbrasil.com.br/esportes/lances-ao-vivo/copa-do-nordeste-2025/26-03-2025/bahia-x-ceara\n",
            "[AVISO] Sem conteúdo em https://www.cnnbrasil.com.br/esportes/lances-ao-vivo/copa-do-nordeste-2025/26-03-2025/ferroviario-x-sousa-pb\n",
            "[AVISO] Sem conteúdo em https://www.cnnbrasil.com.br/esportes/lances-ao-vivo/copa-do-nordeste-2025/26-03-2025/sport-x-altos-pi\n",
            "[AVISO] Sem conteúdo em https://www.cnnbrasil.com.br/esportes/lances-ao-vivo/copa-do-nordeste-2025/26-03-2025/fortaleza-x-crb\n",
            "[AVISO] Sem conteúdo em https://www.cnnbrasil.com.br/esportes/lances-ao-vivo/copa-do-nordeste-2025/26-03-2025/moto-club-x-vitoria\n",
            "[AVISO] Sem conteúdo em https://www.cnnbrasil.com.br/esportes/lances-ao-vivo/laliga-24-25/27-03-2025/barcelona-x-osasuna\n",
            "[AVISO] Sem conteúdo em https://www.cnnbrasil.com.br/esportes/lances-ao-vivo/paulistao-2025/27-03-2025/corinthians-x-palmeiras\n",
            "[AVISO] Sem conteúdo em https://stories.cnnbrasil.com.br/\n",
            "[AVISO] Sem conteúdo em https://stories.cnnbrasil.com.br/?p=403794\n",
            "[AVISO] Sem conteúdo em https://stories.cnnbrasil.com.br/?p=403433\n",
            "[AVISO] Sem conteúdo em https://stories.cnnbrasil.com.br/?p=403779\n",
            "[AVISO] Sem conteúdo em https://stories.cnnbrasil.com.br/?p=403700\n",
            "[AVISO] Sem conteúdo em https://stories.cnnbrasil.com.br/?p=403434\n",
            "[AVISO] Sem conteúdo em https://stories.cnnbrasil.com.br/?p=403472\n",
            "[AVISO] Sem conteúdo em https://stories.cnnbrasil.com.br/?p=403554\n",
            "[AVISO] Sem conteúdo em https://stories.cnnbrasil.com.br/?p=403543\n",
            "[AVISO] Sem conteúdo em https://stories.cnnbrasil.com.br/?p=403508\n",
            "[AVISO] Sem conteúdo em https://stories.cnnbrasil.com.br/?p=403566\n",
            "[AVISO] Sem conteúdo em https://stories.cnnbrasil.com.br/?p=403630\n",
            "[AVISO] Sem conteúdo em https://stories.cnnbrasil.com.br/?p=403617\n",
            "[AVISO] Sem conteúdo em https://www.facebook.com/cnnbrasil/\n"
          ]
        },
        {
          "output_type": "error",
          "ename": "NameError",
          "evalue": "name 'HTTPError' is not defined",
          "traceback": [
            "\u001b[0;31m---------------------------------------------------------------------------\u001b[0m",
            "\u001b[0;31mHTTPError\u001b[0m                                 Traceback (most recent call last)",
            "\u001b[0;32m<ipython-input-15-98b7040ec805>\u001b[0m in \u001b[0;36mget_texto\u001b[0;34m(link)\u001b[0m\n\u001b[1;32m      4\u001b[0m   \u001b[0;32mtry\u001b[0m\u001b[0;34m:\u001b[0m\u001b[0;34m\u001b[0m\u001b[0;34m\u001b[0m\u001b[0m\n\u001b[0;32m----> 5\u001b[0;31m     \u001b[0mpage\u001b[0m \u001b[0;34m=\u001b[0m \u001b[0murlopen\u001b[0m\u001b[0;34m(\u001b[0m\u001b[0mreq\u001b[0m\u001b[0;34m)\u001b[0m\u001b[0;34m\u001b[0m\u001b[0;34m\u001b[0m\u001b[0m\n\u001b[0m\u001b[1;32m      6\u001b[0m   \u001b[0;32mexcept\u001b[0m \u001b[0mHTTPError\u001b[0m \u001b[0;32mas\u001b[0m \u001b[0me\u001b[0m\u001b[0;34m:\u001b[0m\u001b[0;34m\u001b[0m\u001b[0;34m\u001b[0m\u001b[0m\n",
            "\u001b[0;32m/usr/lib/python3.11/urllib/request.py\u001b[0m in \u001b[0;36murlopen\u001b[0;34m(url, data, timeout, cafile, capath, cadefault, context)\u001b[0m\n\u001b[1;32m    215\u001b[0m         \u001b[0mopener\u001b[0m \u001b[0;34m=\u001b[0m \u001b[0m_opener\u001b[0m\u001b[0;34m\u001b[0m\u001b[0;34m\u001b[0m\u001b[0m\n\u001b[0;32m--> 216\u001b[0;31m     \u001b[0;32mreturn\u001b[0m \u001b[0mopener\u001b[0m\u001b[0;34m.\u001b[0m\u001b[0mopen\u001b[0m\u001b[0;34m(\u001b[0m\u001b[0murl\u001b[0m\u001b[0;34m,\u001b[0m \u001b[0mdata\u001b[0m\u001b[0;34m,\u001b[0m \u001b[0mtimeout\u001b[0m\u001b[0;34m)\u001b[0m\u001b[0;34m\u001b[0m\u001b[0;34m\u001b[0m\u001b[0m\n\u001b[0m\u001b[1;32m    217\u001b[0m \u001b[0;34m\u001b[0m\u001b[0m\n",
            "\u001b[0;32m/usr/lib/python3.11/urllib/request.py\u001b[0m in \u001b[0;36mopen\u001b[0;34m(self, fullurl, data, timeout)\u001b[0m\n\u001b[1;32m    524\u001b[0m             \u001b[0mmeth\u001b[0m \u001b[0;34m=\u001b[0m \u001b[0mgetattr\u001b[0m\u001b[0;34m(\u001b[0m\u001b[0mprocessor\u001b[0m\u001b[0;34m,\u001b[0m \u001b[0mmeth_name\u001b[0m\u001b[0;34m)\u001b[0m\u001b[0;34m\u001b[0m\u001b[0;34m\u001b[0m\u001b[0m\n\u001b[0;32m--> 525\u001b[0;31m             \u001b[0mresponse\u001b[0m \u001b[0;34m=\u001b[0m \u001b[0mmeth\u001b[0m\u001b[0;34m(\u001b[0m\u001b[0mreq\u001b[0m\u001b[0;34m,\u001b[0m \u001b[0mresponse\u001b[0m\u001b[0;34m)\u001b[0m\u001b[0;34m\u001b[0m\u001b[0;34m\u001b[0m\u001b[0m\n\u001b[0m\u001b[1;32m    526\u001b[0m \u001b[0;34m\u001b[0m\u001b[0m\n",
            "\u001b[0;32m/usr/lib/python3.11/urllib/request.py\u001b[0m in \u001b[0;36mhttp_response\u001b[0;34m(self, request, response)\u001b[0m\n\u001b[1;32m    633\u001b[0m         \u001b[0;32mif\u001b[0m \u001b[0;32mnot\u001b[0m \u001b[0;34m(\u001b[0m\u001b[0;36m200\u001b[0m \u001b[0;34m<=\u001b[0m \u001b[0mcode\u001b[0m \u001b[0;34m<\u001b[0m \u001b[0;36m300\u001b[0m\u001b[0;34m)\u001b[0m\u001b[0;34m:\u001b[0m\u001b[0;34m\u001b[0m\u001b[0;34m\u001b[0m\u001b[0m\n\u001b[0;32m--> 634\u001b[0;31m             response = self.parent.error(\n\u001b[0m\u001b[1;32m    635\u001b[0m                 'http', request, response, code, msg, hdrs)\n",
            "\u001b[0;32m/usr/lib/python3.11/urllib/request.py\u001b[0m in \u001b[0;36merror\u001b[0;34m(self, proto, *args)\u001b[0m\n\u001b[1;32m    556\u001b[0m         \u001b[0margs\u001b[0m \u001b[0;34m=\u001b[0m \u001b[0;34m(\u001b[0m\u001b[0mdict\u001b[0m\u001b[0;34m,\u001b[0m \u001b[0mproto\u001b[0m\u001b[0;34m,\u001b[0m \u001b[0mmeth_name\u001b[0m\u001b[0;34m)\u001b[0m \u001b[0;34m+\u001b[0m \u001b[0margs\u001b[0m\u001b[0;34m\u001b[0m\u001b[0;34m\u001b[0m\u001b[0m\n\u001b[0;32m--> 557\u001b[0;31m         \u001b[0mresult\u001b[0m \u001b[0;34m=\u001b[0m \u001b[0mself\u001b[0m\u001b[0;34m.\u001b[0m\u001b[0m_call_chain\u001b[0m\u001b[0;34m(\u001b[0m\u001b[0;34m*\u001b[0m\u001b[0margs\u001b[0m\u001b[0;34m)\u001b[0m\u001b[0;34m\u001b[0m\u001b[0;34m\u001b[0m\u001b[0m\n\u001b[0m\u001b[1;32m    558\u001b[0m         \u001b[0;32mif\u001b[0m \u001b[0mresult\u001b[0m\u001b[0;34m:\u001b[0m\u001b[0;34m\u001b[0m\u001b[0;34m\u001b[0m\u001b[0m\n",
            "\u001b[0;32m/usr/lib/python3.11/urllib/request.py\u001b[0m in \u001b[0;36m_call_chain\u001b[0;34m(self, chain, kind, meth_name, *args)\u001b[0m\n\u001b[1;32m    495\u001b[0m             \u001b[0mfunc\u001b[0m \u001b[0;34m=\u001b[0m \u001b[0mgetattr\u001b[0m\u001b[0;34m(\u001b[0m\u001b[0mhandler\u001b[0m\u001b[0;34m,\u001b[0m \u001b[0mmeth_name\u001b[0m\u001b[0;34m)\u001b[0m\u001b[0;34m\u001b[0m\u001b[0;34m\u001b[0m\u001b[0m\n\u001b[0;32m--> 496\u001b[0;31m             \u001b[0mresult\u001b[0m \u001b[0;34m=\u001b[0m \u001b[0mfunc\u001b[0m\u001b[0;34m(\u001b[0m\u001b[0;34m*\u001b[0m\u001b[0margs\u001b[0m\u001b[0;34m)\u001b[0m\u001b[0;34m\u001b[0m\u001b[0;34m\u001b[0m\u001b[0m\n\u001b[0m\u001b[1;32m    497\u001b[0m             \u001b[0;32mif\u001b[0m \u001b[0mresult\u001b[0m \u001b[0;32mis\u001b[0m \u001b[0;32mnot\u001b[0m \u001b[0;32mNone\u001b[0m\u001b[0;34m:\u001b[0m\u001b[0;34m\u001b[0m\u001b[0;34m\u001b[0m\u001b[0m\n",
            "\u001b[0;32m/usr/lib/python3.11/urllib/request.py\u001b[0m in \u001b[0;36mhttp_error_302\u001b[0;34m(self, req, fp, code, msg, headers)\u001b[0m\n\u001b[1;32m    748\u001b[0m \u001b[0;34m\u001b[0m\u001b[0m\n\u001b[0;32m--> 749\u001b[0;31m         \u001b[0;32mreturn\u001b[0m \u001b[0mself\u001b[0m\u001b[0;34m.\u001b[0m\u001b[0mparent\u001b[0m\u001b[0;34m.\u001b[0m\u001b[0mopen\u001b[0m\u001b[0;34m(\u001b[0m\u001b[0mnew\u001b[0m\u001b[0;34m,\u001b[0m \u001b[0mtimeout\u001b[0m\u001b[0;34m=\u001b[0m\u001b[0mreq\u001b[0m\u001b[0;34m.\u001b[0m\u001b[0mtimeout\u001b[0m\u001b[0;34m)\u001b[0m\u001b[0;34m\u001b[0m\u001b[0;34m\u001b[0m\u001b[0m\n\u001b[0m\u001b[1;32m    750\u001b[0m \u001b[0;34m\u001b[0m\u001b[0m\n",
            "\u001b[0;32m/usr/lib/python3.11/urllib/request.py\u001b[0m in \u001b[0;36mopen\u001b[0;34m(self, fullurl, data, timeout)\u001b[0m\n\u001b[1;32m    524\u001b[0m             \u001b[0mmeth\u001b[0m \u001b[0;34m=\u001b[0m \u001b[0mgetattr\u001b[0m\u001b[0;34m(\u001b[0m\u001b[0mprocessor\u001b[0m\u001b[0;34m,\u001b[0m \u001b[0mmeth_name\u001b[0m\u001b[0;34m)\u001b[0m\u001b[0;34m\u001b[0m\u001b[0;34m\u001b[0m\u001b[0m\n\u001b[0;32m--> 525\u001b[0;31m             \u001b[0mresponse\u001b[0m \u001b[0;34m=\u001b[0m \u001b[0mmeth\u001b[0m\u001b[0;34m(\u001b[0m\u001b[0mreq\u001b[0m\u001b[0;34m,\u001b[0m \u001b[0mresponse\u001b[0m\u001b[0;34m)\u001b[0m\u001b[0;34m\u001b[0m\u001b[0;34m\u001b[0m\u001b[0m\n\u001b[0m\u001b[1;32m    526\u001b[0m \u001b[0;34m\u001b[0m\u001b[0m\n",
            "\u001b[0;32m/usr/lib/python3.11/urllib/request.py\u001b[0m in \u001b[0;36mhttp_response\u001b[0;34m(self, request, response)\u001b[0m\n\u001b[1;32m    633\u001b[0m         \u001b[0;32mif\u001b[0m \u001b[0;32mnot\u001b[0m \u001b[0;34m(\u001b[0m\u001b[0;36m200\u001b[0m \u001b[0;34m<=\u001b[0m \u001b[0mcode\u001b[0m \u001b[0;34m<\u001b[0m \u001b[0;36m300\u001b[0m\u001b[0;34m)\u001b[0m\u001b[0;34m:\u001b[0m\u001b[0;34m\u001b[0m\u001b[0;34m\u001b[0m\u001b[0m\n\u001b[0;32m--> 634\u001b[0;31m             response = self.parent.error(\n\u001b[0m\u001b[1;32m    635\u001b[0m                 'http', request, response, code, msg, hdrs)\n",
            "\u001b[0;32m/usr/lib/python3.11/urllib/request.py\u001b[0m in \u001b[0;36merror\u001b[0;34m(self, proto, *args)\u001b[0m\n\u001b[1;32m    562\u001b[0m             \u001b[0margs\u001b[0m \u001b[0;34m=\u001b[0m \u001b[0;34m(\u001b[0m\u001b[0mdict\u001b[0m\u001b[0;34m,\u001b[0m \u001b[0;34m'default'\u001b[0m\u001b[0;34m,\u001b[0m \u001b[0;34m'http_error_default'\u001b[0m\u001b[0;34m)\u001b[0m \u001b[0;34m+\u001b[0m \u001b[0morig_args\u001b[0m\u001b[0;34m\u001b[0m\u001b[0;34m\u001b[0m\u001b[0m\n\u001b[0;32m--> 563\u001b[0;31m             \u001b[0;32mreturn\u001b[0m \u001b[0mself\u001b[0m\u001b[0;34m.\u001b[0m\u001b[0m_call_chain\u001b[0m\u001b[0;34m(\u001b[0m\u001b[0;34m*\u001b[0m\u001b[0margs\u001b[0m\u001b[0;34m)\u001b[0m\u001b[0;34m\u001b[0m\u001b[0;34m\u001b[0m\u001b[0m\n\u001b[0m\u001b[1;32m    564\u001b[0m \u001b[0;34m\u001b[0m\u001b[0m\n",
            "\u001b[0;32m/usr/lib/python3.11/urllib/request.py\u001b[0m in \u001b[0;36m_call_chain\u001b[0;34m(self, chain, kind, meth_name, *args)\u001b[0m\n\u001b[1;32m    495\u001b[0m             \u001b[0mfunc\u001b[0m \u001b[0;34m=\u001b[0m \u001b[0mgetattr\u001b[0m\u001b[0;34m(\u001b[0m\u001b[0mhandler\u001b[0m\u001b[0;34m,\u001b[0m \u001b[0mmeth_name\u001b[0m\u001b[0;34m)\u001b[0m\u001b[0;34m\u001b[0m\u001b[0;34m\u001b[0m\u001b[0m\n\u001b[0;32m--> 496\u001b[0;31m             \u001b[0mresult\u001b[0m \u001b[0;34m=\u001b[0m \u001b[0mfunc\u001b[0m\u001b[0;34m(\u001b[0m\u001b[0;34m*\u001b[0m\u001b[0margs\u001b[0m\u001b[0;34m)\u001b[0m\u001b[0;34m\u001b[0m\u001b[0;34m\u001b[0m\u001b[0m\n\u001b[0m\u001b[1;32m    497\u001b[0m             \u001b[0;32mif\u001b[0m \u001b[0mresult\u001b[0m \u001b[0;32mis\u001b[0m \u001b[0;32mnot\u001b[0m \u001b[0;32mNone\u001b[0m\u001b[0;34m:\u001b[0m\u001b[0;34m\u001b[0m\u001b[0;34m\u001b[0m\u001b[0m\n",
            "\u001b[0;32m/usr/lib/python3.11/urllib/request.py\u001b[0m in \u001b[0;36mhttp_error_default\u001b[0;34m(self, req, fp, code, msg, hdrs)\u001b[0m\n\u001b[1;32m    642\u001b[0m     \u001b[0;32mdef\u001b[0m \u001b[0mhttp_error_default\u001b[0m\u001b[0;34m(\u001b[0m\u001b[0mself\u001b[0m\u001b[0;34m,\u001b[0m \u001b[0mreq\u001b[0m\u001b[0;34m,\u001b[0m \u001b[0mfp\u001b[0m\u001b[0;34m,\u001b[0m \u001b[0mcode\u001b[0m\u001b[0;34m,\u001b[0m \u001b[0mmsg\u001b[0m\u001b[0;34m,\u001b[0m \u001b[0mhdrs\u001b[0m\u001b[0;34m)\u001b[0m\u001b[0;34m:\u001b[0m\u001b[0;34m\u001b[0m\u001b[0;34m\u001b[0m\u001b[0m\n\u001b[0;32m--> 643\u001b[0;31m         \u001b[0;32mraise\u001b[0m \u001b[0mHTTPError\u001b[0m\u001b[0;34m(\u001b[0m\u001b[0mreq\u001b[0m\u001b[0;34m.\u001b[0m\u001b[0mfull_url\u001b[0m\u001b[0;34m,\u001b[0m \u001b[0mcode\u001b[0m\u001b[0;34m,\u001b[0m \u001b[0mmsg\u001b[0m\u001b[0;34m,\u001b[0m \u001b[0mhdrs\u001b[0m\u001b[0;34m,\u001b[0m \u001b[0mfp\u001b[0m\u001b[0;34m)\u001b[0m\u001b[0;34m\u001b[0m\u001b[0;34m\u001b[0m\u001b[0m\n\u001b[0m\u001b[1;32m    644\u001b[0m \u001b[0;34m\u001b[0m\u001b[0m\n",
            "\u001b[0;31mHTTPError\u001b[0m: HTTP Error 429: Too Many Requests",
            "\nDuring handling of the above exception, another exception occurred:\n",
            "\u001b[0;31mNameError\u001b[0m                                 Traceback (most recent call last)",
            "\u001b[0;32m<ipython-input-18-1065075e4124>\u001b[0m in \u001b[0;36m<cell line: 0>\u001b[0;34m()\u001b[0m\n\u001b[1;32m      6\u001b[0m \u001b[0;34m\u001b[0m\u001b[0m\n\u001b[1;32m      7\u001b[0m \u001b[0;32mfor\u001b[0m \u001b[0mnoticia_id\u001b[0m\u001b[0;34m,\u001b[0m \u001b[0murl\u001b[0m \u001b[0;32min\u001b[0m \u001b[0mpendentes\u001b[0m\u001b[0;34m:\u001b[0m\u001b[0;34m\u001b[0m\u001b[0;34m\u001b[0m\u001b[0m\n\u001b[0;32m----> 8\u001b[0;31m     \u001b[0mtexto\u001b[0m \u001b[0;34m=\u001b[0m \u001b[0mget_texto\u001b[0m\u001b[0;34m(\u001b[0m\u001b[0murl\u001b[0m\u001b[0;34m)\u001b[0m\u001b[0;34m\u001b[0m\u001b[0;34m\u001b[0m\u001b[0m\n\u001b[0m\u001b[1;32m      9\u001b[0m     \u001b[0mdata_coleta\u001b[0m \u001b[0;34m=\u001b[0m \u001b[0mdatetime\u001b[0m\u001b[0;34m.\u001b[0m\u001b[0mnow\u001b[0m\u001b[0;34m(\u001b[0m\u001b[0;34m)\u001b[0m\u001b[0;34m\u001b[0m\u001b[0;34m\u001b[0m\u001b[0m\n\u001b[1;32m     10\u001b[0m \u001b[0;34m\u001b[0m\u001b[0m\n",
            "\u001b[0;32m<ipython-input-15-98b7040ec805>\u001b[0m in \u001b[0;36mget_texto\u001b[0;34m(link)\u001b[0m\n\u001b[1;32m      4\u001b[0m   \u001b[0;32mtry\u001b[0m\u001b[0;34m:\u001b[0m\u001b[0;34m\u001b[0m\u001b[0;34m\u001b[0m\u001b[0m\n\u001b[1;32m      5\u001b[0m     \u001b[0mpage\u001b[0m \u001b[0;34m=\u001b[0m \u001b[0murlopen\u001b[0m\u001b[0;34m(\u001b[0m\u001b[0mreq\u001b[0m\u001b[0;34m)\u001b[0m\u001b[0;34m\u001b[0m\u001b[0;34m\u001b[0m\u001b[0m\n\u001b[0;32m----> 6\u001b[0;31m   \u001b[0;32mexcept\u001b[0m \u001b[0mHTTPError\u001b[0m \u001b[0;32mas\u001b[0m \u001b[0me\u001b[0m\u001b[0;34m:\u001b[0m\u001b[0;34m\u001b[0m\u001b[0;34m\u001b[0m\u001b[0m\n\u001b[0m\u001b[1;32m      7\u001b[0m     \u001b[0;32mif\u001b[0m \u001b[0me\u001b[0m\u001b[0;34m.\u001b[0m\u001b[0mcode\u001b[0m \u001b[0;34m==\u001b[0m \u001b[0;36m429\u001b[0m\u001b[0;34m:\u001b[0m\u001b[0;34m\u001b[0m\u001b[0;34m\u001b[0m\u001b[0m\n\u001b[1;32m      8\u001b[0m       \u001b[0mwait_time\u001b[0m \u001b[0;34m=\u001b[0m \u001b[0mrandom\u001b[0m\u001b[0;34m.\u001b[0m\u001b[0muniform\u001b[0m\u001b[0;34m(\u001b[0m\u001b[0;36m1\u001b[0m\u001b[0;34m,\u001b[0m\u001b[0;36m10\u001b[0m\u001b[0;34m)\u001b[0m\u001b[0;34m\u001b[0m\u001b[0;34m\u001b[0m\u001b[0m\n",
            "\u001b[0;31mNameError\u001b[0m: name 'HTTPError' is not defined"
          ]
        }
      ]
    },
    {
      "cell_type": "markdown",
      "source": [
        "##Classes\n",
        "\n",
        "\n",
        "\n",
        "\n",
        "\n",
        "\n"
      ],
      "metadata": {
        "id": "k3s33Q0FQIPh"
      }
    },
    {
      "cell_type": "markdown",
      "source": [
        "* Categoria"
      ],
      "metadata": {
        "id": "Q3yom4axTTUe"
      }
    },
    {
      "cell_type": "code",
      "source": [
        "class Categoria:\n",
        "  def __init__(self, nome):\n",
        "     self.nome = nome\n",
        "\n",
        "  def get_nome(self):\n",
        "    return self.nome\n"
      ],
      "metadata": {
        "id": "vSQZIn9MQ36c"
      },
      "execution_count": null,
      "outputs": []
    },
    {
      "cell_type": "markdown",
      "source": [
        "* Notícias"
      ],
      "metadata": {
        "id": "gagGsYcXSZWx"
      }
    },
    {
      "cell_type": "code",
      "source": [
        "class Noticia:\n",
        "  def __init__(self, titulo, texto, url, categoria, data_coleta, data_publicacao):\n",
        "    self.titulo = titulo\n",
        "    self.texto = texto\n",
        "    self.url = url\n",
        "    self.categoria = categoria\n",
        "    self.data_coleta = data_coleta\n",
        "    self.data_publicacao =  data_publicacao\n",
        "\n"
      ],
      "metadata": {
        "id": "o4aQSYMXSb_k"
      },
      "execution_count": null,
      "outputs": []
    }
  ],
  "metadata": {
    "colab": {
      "provenance": [],
      "include_colab_link": true
    },
    "kernelspec": {
      "display_name": "Python 3",
      "name": "python3"
    },
    "language_info": {
      "name": "python"
    }
  },
  "nbformat": 4,
  "nbformat_minor": 0
}